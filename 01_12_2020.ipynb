{
  "nbformat": 4,
  "nbformat_minor": 0,
  "metadata": {
    "colab": {
      "name": "01/12/2020.ipynb",
      "provenance": [],
      "authorship_tag": "ABX9TyOxVbPR+i1TD5onn5ZpR2BF",
      "include_colab_link": true
    },
    "kernelspec": {
      "name": "python3",
      "display_name": "Python 3"
    }
  },
  "cells": [
    {
      "cell_type": "markdown",
      "metadata": {
        "id": "view-in-github",
        "colab_type": "text"
      },
      "source": [
        "<a href=\"https://colab.research.google.com/github/AxelSalinas/cyp_2021/blob/main/01_12_2020.ipynb\" target=\"_parent\"><img src=\"https://colab.research.google.com/assets/colab-badge.svg\" alt=\"Open In Colab\"/></a>"
      ]
    },
    {
      "cell_type": "code",
      "metadata": {
        "colab": {
          "base_uri": "https://localhost:8080/"
        },
        "id": "jg2wv1PkS5M1",
        "outputId": "c50317f0-bb1d-4d12-ffb3-7ed721548827"
      },
      "source": [
        "#1\n",
        "\n",
        "numero1=int(input(\"numero 1: \"))\n",
        "numero2=int(input(\"numero 2: \"))\n",
        "numero3=int(input(\"numero 3: \"))\n",
        "\n",
        "if numero1 >= numero2 and numero3:\n",
        "  print(numero1,\"es mayor\")\n",
        "\n",
        "elif  numero2 >= numero1 and numero2 >= numero3:\n",
        "  print(numero2,\"es el mayor\")\n"
      ],
      "execution_count": 4,
      "outputs": [
        {
          "output_type": "stream",
          "text": [
            "numero 1: 4\n",
            "numero 2: 5\n",
            "numero 3: 6\n"
          ],
          "name": "stdout"
        }
      ]
    },
    {
      "cell_type": "code",
      "metadata": {
        "colab": {
          "base_uri": "https://localhost:8080/"
        },
        "id": "emJROgMSVv4v",
        "outputId": "1fc89319-f43d-42e5-db9d-dba0929feef1"
      },
      "source": [
        "#ejemplo 2\n",
        "print(\"ingrese el nombre\")\n",
        "nombre=str (input())\n",
        "print(\"cuantas horas tarabajo en la semana\")\n",
        "horas=int(input())\n",
        "print(\"cuanto se paga por hora\")\n",
        "sueldoH=float (input())\n",
        "\n",
        "\n",
        "if (horas<=40):\n",
        "  pago= horas*sueldoH\n",
        "  print(\"el sueldo final de\",nombre,\"es $\",pago)\n",
        "\n",
        "else:\n",
        "  extras=horas - 40\n",
        "  pago=40*sueldoH\n",
        "  pagofinal= pago +((extras *sueldoH)*2)\n",
        "  print(\"el sueldo final de: \",nombre,\"es $\",pagofinal)\n",
        "\n",
        "\n"
      ],
      "execution_count": 30,
      "outputs": [
        {
          "output_type": "stream",
          "text": [
            "ingrese el nombre\n",
            "t\n",
            "cuantas horas tarabajo en la semana\n",
            "40\n",
            "cuanto se paga por hora\n",
            "10\n",
            "el sueldo final de t es $ 400.0\n"
          ],
          "name": "stdout"
        }
      ]
    },
    {
      "cell_type": "code",
      "metadata": {
        "colab": {
          "base_uri": "https://localhost:8080/"
        },
        "id": "NCz2m10VagEv",
        "outputId": "86e38ec3-0554-49f7-a14d-45b7aa48b2b4"
      },
      "source": [
        "#Ejemplo 3\n",
        "\n",
        "print(\"Ingrese el nombre del trabajador\")\n",
        "nombre=str (input())\n",
        "print(\"¿Cuantas horas trabajo esta semana?\",nombre,\":\" )\n",
        "horas=int (input())\n",
        "print(\"¿Cuanto se le paga por hora?:\")\n",
        "sueldoH= float (input())\n",
        "\n",
        "#Evaluar el sueldo\n",
        "\n",
        "if (horas<=40):\n",
        "  pago=horas*sueldoH\n",
        "  print(nombre, \"su sueldo final es de $\",pago,\"\\n\")\n",
        "\n",
        "elif ((horas>=41)and(horas<=50)):\n",
        "  extrasDobles = horas-40\n",
        "  print(\"Horas extras dobles:\",extrasDobles)\n",
        "  pago=40*sueldoH\n",
        "  print(\"Sueldo base: $\",pago)\n",
        "  pagoDoble=extrasDobles*(sueldoH*2)\n",
        "  print(\"Pago de horas dobles: $\",pagoDoble)\n",
        "  pagoFinal=pagoDoble+pago\n",
        "  print(nombre, \",su sueldo total es de $\",pagoFinal)\n",
        "\n",
        "elif (horas>50 and horas <= 60):\n",
        "  extrasTriples= horas-50\n",
        "  print(\"horas extra dolbles:10\")\n",
        "  print(\"horas extra triples:\",extrasTriples)\n",
        "  pago=40*sueldoH\n",
        "  print(\"sueldo base:\",pago)\n",
        "  pagodoble=10*sueldoH*2\n",
        "  print(\"el pago de horas dobles\",pagodoble)\n",
        "  pagotriple=10*sueldoH*2\n",
        "  print(\"el pago de horas dobles\",pagotriple)\n",
        "  pagofinal= pago+pagodoble+pagotriple\n",
        "  print(\"el pago final es\",pagofinal)\n",
        "\n",
        "else:\n",
        "  extrastriples=10\n",
        "  print(\"horas extra dobles 10\")\n",
        "  print(\"horas extras triples 10\")\n",
        "  pago=40*sueldoH\n",
        "  print(\"sueldo base\",pago)\n",
        "  pagodoble=10*sueldoH*2\n",
        "  print(\"pago extras dobles\",pago)\n",
        "  pagotriple=extrastriples*sueldoH*3\n",
        "  print(\"pago extras triples\",pagotriple)\n",
        "  print(\"incentivo por mas de 60h=2000\")\n",
        "  pagofinal=pago+pagodoble+pagotriple+2000\n",
        "  print(\"el sueldo final $\",pagofinal)\n"
      ],
      "execution_count": 37,
      "outputs": [
        {
          "output_type": "stream",
          "text": [
            "Ingrese el nombre del trabajador\n",
            "r\n",
            "¿Cuantas horas trabajo esta semana? r :\n",
            "65\n",
            "¿Cuanto se le paga por hora?:\n",
            "200\n",
            "horas extra dobles 10\n",
            "horas extras triples 10\n",
            "sueldo base 8000.0\n",
            "pago extras dobles 8000.0\n",
            "pago extras triples 6000.0\n",
            "incentivo por mas de 60h=2000\n",
            "el sueldo final $ 20000.0\n"
          ],
          "name": "stdout"
        }
      ]
    },
    {
      "cell_type": "code",
      "metadata": {
        "colab": {
          "base_uri": "https://localhost:8080/"
        },
        "id": "_Wnee5pfn2kC",
        "outputId": "b3a986a0-d3b4-4a85-98ae-4309494d773d"
      },
      "source": [
        "#for\n",
        "\n",
        "#E1\n",
        "for estaciones_año in[\"primavera\",\"verano\",\"otoño\", \"invierno\"]: #in palabra resevada.elemento a recorrer\n",
        "  print(estaciones_año)\n",
        "\n",
        "#variable de for \"i\"\n",
        "\n",
        "  \n",
        "  \n",
        "\n"
      ],
      "execution_count": 42,
      "outputs": [
        {
          "output_type": "stream",
          "text": [
            "primavera\n",
            "verano\n",
            "otoño\n",
            "invierno\n"
          ],
          "name": "stdout"
        }
      ]
    },
    {
      "cell_type": "code",
      "metadata": {
        "colab": {
          "base_uri": "https://localhost:8080/"
        },
        "id": "F25d9fAFqXgs",
        "outputId": "cfb2f7f2-8a3c-4d47-b3b8-b10708890dda"
      },
      "source": [
        "for estaciones_año in[\"primavera\",\"verano\",\"otoño\", \"invierno\"]: #in palabra resevada.elemento a recorrer\n",
        "\n",
        "  print(\"hola\")\n"
      ],
      "execution_count": 43,
      "outputs": [
        {
          "output_type": "stream",
          "text": [
            "hola\n",
            "hola\n",
            "hola\n",
            "hola\n"
          ],
          "name": "stdout"
        }
      ]
    },
    {
      "cell_type": "code",
      "metadata": {
        "id": "gWF-zt9rqA7-"
      },
      "source": [
        ""
      ],
      "execution_count": null,
      "outputs": []
    }
  ]
}