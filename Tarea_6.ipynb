{
  "nbformat": 4,
  "nbformat_minor": 0,
  "metadata": {
    "colab": {
      "name": "Tarea 6.ipynb",
      "provenance": [],
      "collapsed_sections": [],
      "authorship_tag": "ABX9TyP7UQKIOC1S58EYAZG2Om3f",
      "include_colab_link": true
    },
    "kernelspec": {
      "name": "python3",
      "display_name": "Python 3"
    }
  },
  "cells": [
    {
      "cell_type": "markdown",
      "metadata": {
        "id": "view-in-github",
        "colab_type": "text"
      },
      "source": [
        "<a href=\"https://colab.research.google.com/github/AxelSalinas/cyp_2021/blob/main/Tarea_6.ipynb\" target=\"_parent\"><img src=\"https://colab.research.google.com/assets/colab-badge.svg\" alt=\"Open In Colab\"/></a>"
      ]
    },
    {
      "cell_type": "code",
      "metadata": {
        "colab": {
          "base_uri": "https://localhost:8080/"
        },
        "id": "deM5_Yq1ijfV",
        "outputId": "7b437887-7f27-4139-ca34-a4de15689e69"
      },
      "source": [
        "# Problema 3.3\r\n",
        "\r\n",
        "\r\n",
        "N =float (input(\"Cuantos terminos tendra la serie = \" ))\r\n",
        "serie=0\r\n",
        "band=True\r\n",
        "I=1\r\n",
        "while I<=N-1 : \r\n",
        "  if band==True:\r\n",
        "    serie = serie + (1/I) \r\n",
        "    band=False\r\n",
        "  else:\r\n",
        "    serie= serie - (1/I) \r\n",
        "    band=True\r\n",
        "  I=I+1  \r\n",
        "\r\n",
        "print(f\"la suma de la serie es = \",serie)\r\n",
        "  \r\n"
      ],
      "execution_count": null,
      "outputs": [
        {
          "output_type": "stream",
          "text": [
            "Cuantos terminos tendra la serie = 10\n",
            "la suma de la serie es =  0.7456349206349207\n"
          ],
          "name": "stdout"
        }
      ]
    },
    {
      "cell_type": "code",
      "metadata": {
        "colab": {
          "base_uri": "https://localhost:8080/"
        },
        "id": "nA78Zhzrq9f2",
        "outputId": "5534f3e4-e7c9-49ad-8295-f2c9c06203ce"
      },
      "source": [
        "# Problema 3.4\r\n",
        "\r\n",
        "sue= float(input(\"introduce tu salario \"))\r\n",
        "nom= 0\r\n",
        "while sue != -1:\r\n",
        "  if sue<1000:\r\n",
        "    nsue=sue*1.15\r\n",
        "  else:\r\n",
        "    nsue=sue*1.12\r\n",
        "  nom=nom+nsue\r\n",
        "  print(f\"Nuevo sueldo = \",nsue)\r\n",
        "  sue= float(input(\"introduce tu salario \"))\r\n",
        "print(f\"Nomina = \",nom)\r\n",
        "\r\n",
        "\r\n",
        "  \r\n",
        "\r\n",
        "\r\n"
      ],
      "execution_count": null,
      "outputs": [
        {
          "output_type": "stream",
          "text": [
            "introduce tu salario 855\n",
            "Nuevo sueldo =  983.2499999999999\n",
            "introduce tu salario 760.32\n",
            "Nuevo sueldo =  874.3679999999999\n",
            "introduce tu salario -1\n",
            "Nomina =  1857.618\n"
          ],
          "name": "stdout"
        }
      ]
    },
    {
      "cell_type": "code",
      "metadata": {
        "id": "dFs59eEvroli",
        "colab": {
          "base_uri": "https://localhost:8080/"
        },
        "outputId": "f2a79a2c-0149-4f5e-fbe0-2aaae1c0299f"
      },
      "source": [
        "# Problema 3.5\r\n",
        "\r\n",
        "sumotr=0\r\n",
        "sumpos=0\r\n",
        "cuepos=0\r\n",
        "N= int (input(\"Cantidad de Numeros = \"))\r\n",
        "i=1\r\n",
        "while i<=N:\r\n",
        "  num = int (input(\"Introduce un numero entero\"))\r\n",
        "  \r\n",
        "  if num > 0 :\r\n",
        "    sumpos=sumpos+num\r\n",
        "    cuepos=cuepos+1\r\n",
        "  else:\r\n",
        "    sumotr=sumotr+num\r\n",
        "  i=i+1\r\n",
        "    \r\n",
        "progen=(sumpos+sumotr)/N\r\n",
        "propos=(sumpos/cuepos)\r\n",
        "print(f\"NUmeros Positivos= \",cuepos,\"Promedio de Numeros positivos\",propos,\"Promedio General de los Numeros\",progen)\r\n",
        "\r\n",
        "\r\n",
        "\r\n"
      ],
      "execution_count": null,
      "outputs": [
        {
          "output_type": "stream",
          "text": [
            "Cantidad de Numeros = 5\n",
            "Introduce un numero entero12\n",
            "Introduce un numero entero-32\n",
            "Introduce un numero entero4\n",
            "Introduce un numero entero4\n",
            "Introduce un numero entero-1\n",
            "NUmeros Positivos=  3 Promedio de Numeros positivos 6.666666666666667 Promedio General de los Numeros -2.6\n"
          ],
          "name": "stdout"
        }
      ]
    },
    {
      "cell_type": "code",
      "metadata": {
        "id": "mOq6TtCjrpDi",
        "colab": {
          "base_uri": "https://localhost:8080/"
        },
        "outputId": "30c5b4e0-f063-4f4a-b672-9ee3a8998b6b"
      },
      "source": [
        "# Problema 3.6\r\n",
        "\r\n",
        "may=-100000\r\n",
        "men=100000\r\n",
        "n= int (input(\"Cantidad de Numeros = \"))\r\n",
        "i=1\r\n",
        "while i<=N:\r\n",
        "  num= int (input(\"Numeros = \"))\r\n",
        "  if num>may:\r\n",
        "    may=num\r\n",
        "  if num<men:\r\n",
        "      men=num\r\n",
        "  i=i+1\r\n",
        "print(\"El numero mayor es = \",may,\"El numero menor es = \",men)\r\n"
      ],
      "execution_count": null,
      "outputs": [
        {
          "output_type": "stream",
          "text": [
            "Cantidad de Numeros = 5\n",
            "Numeros = 5\n",
            "Numeros = 4\n",
            "Numeros = 6\n",
            "Numeros = 7\n",
            "Numeros = 8\n",
            "El numero mayor es =  8 El numero menor es =  4\n"
          ],
          "name": "stdout"
        }
      ]
    },
    {
      "cell_type": "code",
      "metadata": {
        "id": "i31Ig8smrv4V",
        "colab": {
          "base_uri": "https://localhost:8080/"
        },
        "outputId": "652c89d6-9257-4dc8-f407-59765e8f30b3"
      },
      "source": [
        "# Problema 3.7\r\n",
        "\r\n",
        "med=0\r\n",
        "chi=0\r\n",
        "gra=0\r\n",
        "n= int (input(\"Cantidad de ventas = \"))\r\n",
        "i=1\r\n",
        "\r\n",
        "while i<=n:\r\n",
        "  v=float (input(\"Ventas = \"))\r\n",
        "  if v<=200:\r\n",
        "    chi=chi+1\r\n",
        "  else:\r\n",
        "    if v<400:\r\n",
        "      med=med+1\r\n",
        "    else:\r\n",
        "      gra=gra+1\r\n",
        "  i=1+1\r\n",
        "print(\"Numero de ventas menores a $200 = \",chi,\"Numero de ventas menores a $400 = \",med,\"numero de ventas mayores a $400 = \",gra )\r\n",
        "\r\n"
      ],
      "execution_count": null,
      "outputs": [
        {
          "output_type": "stream",
          "text": [
            "Cantidad de ventas = 1\n",
            "Ventas = 3123\n",
            "Numero de ventas menores a $200 =  0 Numero de ventas menores a $400 =  0 numero de ventas mayores a $400 =  1\n"
          ],
          "name": "stdout"
        }
      ]
    },
    {
      "cell_type": "code",
      "metadata": {
        "id": "2b4kUTBBrzb4",
        "colab": {
          "base_uri": "https://localhost:8080/"
        },
        "outputId": "416fa18a-9556-4248-e38f-b93c3a858265"
      },
      "source": [
        "# Problema 3.8\r\n",
        "\r\n",
        "num= int (input(\"Numero = \"))\r\n",
        "val=num \r\n",
        "\r\n",
        "while (val>1):\r\n",
        "  if (val % 2 == 0):\r\n",
        "    val=(val/2)\r\n",
        "    print(str (val) + \"\")\r\n",
        "  else:\r\n",
        "    val=(val*3)+1\r\n",
        "    print(str (val) + \"\")\r\n",
        "\r\n",
        "\r\n",
        "print(\" El numero: \", num, \"Resultado : \", val) "
      ],
      "execution_count": null,
      "outputs": [
        {
          "output_type": "stream",
          "text": [
            "Numero = 26\n",
            "13.0\n",
            "40.0\n",
            "20.0\n",
            "10.0\n",
            "5.0\n",
            "16.0\n",
            "8.0\n",
            "4.0\n",
            "2.0\n",
            "1.0\n",
            " El numero:  26 Resultado :  1.0\n"
          ],
          "name": "stdout"
        }
      ]
    },
    {
      "cell_type": "code",
      "metadata": {
        "id": "AFKTeti5rz9n",
        "colab": {
          "base_uri": "https://localhost:8080/"
        },
        "outputId": "b602d08a-10e3-490c-860d-9021d6b74d63"
      },
      "source": [
        "# Problema 3.9\r\n",
        "\r\n",
        "serie=0\r\n",
        "n=int (input(\"Cantidad de valores\"))\r\n",
        "i=1\r\n",
        "while i<=n:\r\n",
        "  serie=serie+i**i\r\n",
        "  i=i+1\r\n",
        "print(\"La suma de la serie es\",serie)\r\n"
      ],
      "execution_count": null,
      "outputs": [
        {
          "output_type": "stream",
          "text": [
            "Cantidad de valores8\n",
            "La suma de la serie es 17650828\n"
          ],
          "name": "stdout"
        }
      ]
    },
    {
      "cell_type": "code",
      "metadata": {
        "id": "9KCmDoy1Rh8p",
        "colab": {
          "base_uri": "https://localhost:8080/"
        },
        "outputId": "adf8eb52-49b1-464d-94f2-bcdcfe99358d"
      },
      "source": [
        "#Problema 3.10\r\n",
        "\r\n",
        "pri=0\r\n",
        "seg=1\r\n",
        "i=3\r\n",
        "while i<=180:\r\n",
        "  sig=pri+seg\r\n",
        "  pri=seg\r\n",
        "  seg=sig\r\n",
        "  i=i+1\r\n",
        "print(sig)"
      ],
      "execution_count": null,
      "outputs": [
        {
          "output_type": "stream",
          "text": [
            "11463113765491467695340528626429782121\n"
          ],
          "name": "stdout"
        }
      ]
    },
    {
      "cell_type": "code",
      "metadata": {
        "id": "mmNB3RW5r1A_",
        "colab": {
          "base_uri": "https://localhost:8080/"
        },
        "outputId": "10d646dd-466a-4cdf-8f21-a38ce1ef8a89"
      },
      "source": [
        "# Problema 3.11\r\n",
        "\r\n",
        "voto=1\r\n",
        "totvot=0\r\n",
        "v1=0\r\n",
        "v2=0\r\n",
        "v3=0\r\n",
        "v4=0\r\n",
        "while voto>0 and voto<5:\r\n",
        "  voto=int(input(\"voto: \"))\r\n",
        "  totvot=(totvot+1) if voto>0 and voto<5 else totvot\r\n",
        "  if voto ==1:\r\n",
        "    v1 += 1\r\n",
        "  elif voto == 2:\r\n",
        "    v2 +=1\r\n",
        "  elif voto == 3:\r\n",
        "    v3 +=1\r\n",
        "  elif voto == 4:\r\n",
        "    v4 +=1\r\n",
        "  else:\r\n",
        "    break\r\n",
        "  print(f\"los votos son: \",totvot)\r\n",
        "  print(f\"Primer Candidato:{v1} el porcentaje fue % {(v1/totvot)*100} \")\r\n",
        "  print(f\"Segundo Candidato:{v2} el porcentaje fue % {(v2/totvot)*100} \")\r\n",
        "  print(f\"Tercero Candidato:{v3} el porcentaje fue % {(v3/totvot)*100} \")\r\n",
        "  print(f\"Cuarto Candidato:{v4} el porcentaje fue % {(v4/totvot)*100} \")"
      ],
      "execution_count": null,
      "outputs": [
        {
          "output_type": "stream",
          "text": [
            "voto: 2\n",
            "los votos son:  1\n",
            "Primer Candidato:0 el porcentaje fue % 0.0 \n",
            "Segundo Candidato:1 el porcentaje fue % 100.0 \n",
            "Tercero Candidato:0 el porcentaje fue % 0.0 \n",
            "Cuarto1 Candidato:0 el porcentaje fue % 0.0 \n",
            "voto: 3\n",
            "los votos son:  2\n",
            "Primer Candidato:0 el porcentaje fue % 0.0 \n",
            "Segundo Candidato:1 el porcentaje fue % 50.0 \n",
            "Tercero Candidato:1 el porcentaje fue % 50.0 \n",
            "Cuarto1 Candidato:0 el porcentaje fue % 0.0 \n",
            "voto: 2\n",
            "los votos son:  3\n",
            "Primer Candidato:0 el porcentaje fue % 0.0 \n",
            "Segundo Candidato:2 el porcentaje fue % 66.66666666666666 \n",
            "Tercero Candidato:1 el porcentaje fue % 33.33333333333333 \n",
            "Cuarto1 Candidato:0 el porcentaje fue % 0.0 \n",
            "voto: 1\n",
            "los votos son:  4\n",
            "Primer Candidato:1 el porcentaje fue % 25.0 \n",
            "Segundo Candidato:2 el porcentaje fue % 50.0 \n",
            "Tercero Candidato:1 el porcentaje fue % 25.0 \n",
            "Cuarto1 Candidato:0 el porcentaje fue % 0.0 \n",
            "voto: 0\n"
          ],
          "name": "stdout"
        }
      ]
    },
    {
      "cell_type": "code",
      "metadata": {
        "id": "9CwvPZMer1iI",
        "colab": {
          "base_uri": "https://localhost:8080/"
        },
        "outputId": "dd00c1d8-acf2-49e4-be74-97ad5a19bd31"
      },
      "source": [
        "# Problema 3.12\r\n",
        "masue=0\r\n",
        "n=int (input(\"Numero de empleados\"))\r\n",
        "i=1\r\n",
        "while i<=n:\r\n",
        "  numemp=int (input(\"Numero de empleado: \"))\r\n",
        "  sue=float (input(\"sueldo del empleado\"))\r\n",
        "  if sue>masue:\r\n",
        "    masue=sue\r\n",
        "    manum=numemp\r\n",
        "  i=i+1\r\n",
        "\r\n",
        "print(\"el empleado con el numero: \",manum,\"es el mejor pagado con: $\",masue)"
      ],
      "execution_count": null,
      "outputs": [
        {
          "output_type": "stream",
          "text": [
            "Numero de empleados3\n",
            "Numero de empleado: 111\n",
            "sueldo del empleado1231.2\n",
            "Numero de empleado: 222\n",
            "sueldo del empleado1233.3\n",
            "Numero de empleado: 333\n",
            "sueldo del empleado123234.2\n",
            "el empleado con el numero:  333 es el mejor pagado con: $ 123234.2\n"
          ],
          "name": "stdout"
        }
      ]
    },
    {
      "cell_type": "code",
      "metadata": {
        "id": "TRgHdE5Dr2dI",
        "colab": {
          "base_uri": "https://localhost:8080/"
        },
        "outputId": "c9f78011-42d9-43a0-e6a0-b8a4feb80f1f"
      },
      "source": [
        "# Problema 3.13\r\n",
        "arsu=0\r\n",
        "arno=0\r\n",
        "mersu=50000\r\n",
        "arce=0\r\n",
        "i=1\r\n",
        "while i <= 4:\r\n",
        "  rno=int (input(\"Region Norte: \"))\r\n",
        "  rce=int (input(\"Region Central: \"))\r\n",
        "  rsu=int (input(\"Region Sur: \"))\r\n",
        "  arno=arno+rno\r\n",
        "  arce=arce+rce \r\n",
        "  arsu=+arsu+rsu\r\n",
        "  if rsu<mersu:\r\n",
        "    mersu=rsu\r\n",
        "    mes=1\r\n",
        "  i=i+1\r\n",
        "else:\r\n",
        "  prorce=arce/12\r\n",
        "  print(\"promedio region centro\",prorce)\r\n",
        "  print(\"Mes con menor lluvia redion sur\",mes)\r\n",
        "  print(\"Registro del mes\",mersu)\r\n",
        "  if arno>arce:\r\n",
        "    if arno>arsu:\r\n",
        "      print(\"la region con mas lluvia es la region norte\")\r\n",
        "    else: \r\n",
        "      print(\"la region con mas lluvia es la region sur\")\r\n",
        "      \r\n",
        "  else:\r\n",
        "    if arce>arsu:\r\n",
        "      print(\"la region con mas lluvia es la region centro\")\r\n",
        "    else:\r\n",
        "      print(\"la region con mas lluvia es la region sur\")\r\n"
      ],
      "execution_count": null,
      "outputs": [
        {
          "output_type": "stream",
          "text": [
            "Region Norte: 21\n",
            "Region Central: 3\n",
            "Region Sur: 32\n",
            "Region Norte: 12\n",
            "Region Central: 32\n",
            "Region Sur: 31\n",
            "Region Norte: 21\n",
            "Region Central: 4\n",
            "Region Sur: 42\n",
            "Region Norte: 12\n",
            "Region Central: 32\n",
            "Region Sur: 12\n",
            "promedio region centro 5.916666666666667\n",
            "Mes con menor lluvia redion sur 1\n",
            "Registro del mes 12\n",
            "la region con mas lluvia es la region sur\n"
          ],
          "name": "stdout"
        }
      ]
    },
    {
      "cell_type": "code",
      "metadata": {
        "id": "4utI4neMr2zA",
        "colab": {
          "base_uri": "https://localhost:8080/"
        },
        "outputId": "907d9b03-be1f-439d-ee71-cf2ef990d2ff"
      },
      "source": [
        "# Problema 3.14\r\n",
        "\r\n",
        "ap1=0\r\n",
        "ap2=0\r\n",
        "ap3=0\r\n",
        "ap4=0\r\n",
        "recau=0\r\n",
        "p1=float (input(\"Precio de la primera: \"))\r\n",
        "p2=float (input(\"Precio de la segunda: \"))\r\n",
        "p3=float (input(\"Precio de la tercera: \"))\r\n",
        "p4=float (input(\"Precio de la cuarta: \"))\r\n",
        "p5=float (input(\"Precio de la quinta: \"))\r\n",
        "clave=int (input(\"Clave: \"))\r\n",
        "cant=int (input(\"Cantidad: \"))\r\n",
        "\r\n",
        "while clave != 1 and cant!= -1:\r\n",
        "  if clave ==1 :\r\n",
        "    pre=p1*cant\r\n",
        "    ap1=ap1+cant\r\n",
        "  elif clave == 2:\r\n",
        "    pre=p2*cant\r\n",
        "    ap2=ap2+cant\r\n",
        "  elif clave == 3:\r\n",
        "    pre=p3*cant\r\n",
        "    ap3=ap3+cant\r\n",
        "  elif clave == 4:\r\n",
        "    pre=p4*cant\r\n",
        "    ap4=ap4+cant\r\n",
        "  elif clave == 5:\r\n",
        "    pre=p5*cant\r\n",
        "    ap5=ap5+cant\r\n",
        "  else:\r\n",
        "    break\r\n",
        "print(\"Clave: \",clave,\"cantidad\",cant,\"Precio\",pre)\r\n",
        "recau=recau+pre\r\n",
        "clave=int (input(\"Clave: \"))\r\n",
        "cant=int (input(\"Cantidad: \"))\r\n",
        "\r\n",
        "print(\"cantidad boletos\",ap1)\r\n",
        "print(\"cantidad boletos\",ap2)\r\n",
        "print(\"cantidad boletos\",ap3)\r\n",
        "print(\"cantidad boletos\",ap4)\r\n",
        "print(\"Recaudacion de estado\",recau)\r\n",
        "\r\n",
        "  \r\n",
        "\r\n",
        "\r\n",
        "  \r\n"
      ],
      "execution_count": 31,
      "outputs": [
        {
          "output_type": "stream",
          "text": [
            "Precio de la primera: 123\n",
            "Precio de la segunda: 321\n",
            "Precio de la tercera: 123\n",
            "Precio de la cuarta: 412\n",
            "Precio de la quinta: 123\n",
            "Clave: 111\n",
            "Cantidad: 1\n",
            "Clave:  111 cantidad 1 Precio 36.0\n",
            "Clave: 111\n",
            "Cantidad: 1\n",
            "cantidad boletos 0\n",
            "cantidad boletos 0\n",
            "cantidad boletos 0\n",
            "cantidad boletos 0\n",
            "Recaudacion de estado 36.0\n"
          ],
          "name": "stdout"
        }
      ]
    },
    {
      "cell_type": "code",
      "metadata": {
        "id": "rTdberWar3Ax",
        "colab": {
          "base_uri": "https://localhost:8080/"
        },
        "outputId": "39171f0a-9cbe-4703-86c0-d84f83f81a49"
      },
      "source": [
        "# Problema 3.15\r\n",
        "\r\n",
        "cl=0\r\n",
        "cuenta=0\r\n",
        "tipo= (input(\"Tipo: \"))\r\n",
        "dur= float (input(\"Duración: \"))\r\n",
        "\r\n",
        "while tipo!= X and dur!=-1:\r\n",
        "  if tipo==I:\r\n",
        "    if dur>3:\r\n",
        "      costo=7.59+(dur-3)*3.03\r\n",
        "    else:\r\n",
        "      costo=7.59\r\n",
        "  elif tipo== L:\r\n",
        "    cl=cl+1\r\n",
        "    if cl>50:\r\n",
        "      costo=0.60\r\n",
        "    else:\r\n",
        "      costo=0\r\n",
        "  elif tipo==N:\r\n",
        "    if dur>3:\r\n",
        "      costo=1.20+(dur-3)*.48\r\n",
        "    else:\r\n",
        "      costo=1.20\r\n",
        "  cuenta=cuenta+costo\r\n",
        "  tipo= (input(\"Tipo: \"))\r\n",
        "  dur= float (input(\"Duración: \")) \r\n",
        "print(\"la cuenta es: \",cuenta)\r\n",
        "  \r\n"
      ],
      "execution_count": 48,
      "outputs": [
        {
          "output_type": "stream",
          "text": [
            "Tipo: I\n",
            "Duración: 55\n",
            "Tipo: L\n",
            "Duración: 10\n",
            "Tipo: X\n",
            "Duración: -1\n",
            "la cuenta es:  0\n"
          ],
          "name": "stdout"
        }
      ]
    },
    {
      "cell_type": "code",
      "metadata": {
        "id": "XKgM8FxRr3NB"
      },
      "source": [
        "# Problema 3.16\r\n",
        "\r\n",
        "tipo1=0\r\n",
        "tipo2=0\r\n",
        "tipo3=0\r\n",
        "tipo4=0\r\n",
        "tipo5=0\r\n",
        "mctipo2=0\r\n",
        "n=int (input(\"Año: \"))\r\n",
        "i=1\r\n",
        "while i<=n:\r\n",
        "  j=1\r\n",
        "  totvin=0\r\n",
        "  if j<=5:\r\n",
        "    v=int (input(\"Cantidad de litros: \"))\r\n",
        "    totvin=totvin+v\r\n",
        "    if j==1:\r\n",
        "      tipo1=tipo1+v\r\n",
        "    elif j==2:\r\n",
        "      tipo2=tipo2+v\r\n",
        "      if v>mctipo2:\r\n",
        "        mctipo2=v\r\n",
        "        año=i\r\n",
        "    elif j==3:\r\n",
        "      tipo2=tipo3+v\r\n",
        "      if v==0:\r\n",
        "        print(\"el año\",i)\r\n",
        "        print(\"no se produjo vino tipo 3\")\r\n",
        "    elif j==4:\r\n",
        "      tipo2=tipo4+v\r\n",
        "    elif j==5:\r\n",
        "      tipo2=tipo5+v\r\n",
        "    else:\r\n",
        "      break\r\n",
        "    j=j+1\r\n",
        "print(\"total tipo 1\",tipo1)\r\n",
        "print(\"total tipo 2\",tipo2)\r\n",
        "print(\"total tipo 3\",tipo3)\r\n",
        "print(\"total tipo 4\",tipo4)\r\n",
        "print(\"total tipo 5\",tipo5)\r\n",
        "\r\n",
        "\r\n",
        "\r\n",
        "\r\n",
        "\r\n"
      ],
      "execution_count": null,
      "outputs": []
    },
    {
      "cell_type": "code",
      "metadata": {
        "id": "W2ZrgR1Jr3cB",
        "colab": {
          "base_uri": "https://localhost:8080/"
        },
        "outputId": "f1d79344-717d-4906-a38e-03539713d0c9"
      },
      "source": [
        "# Problema 3.19\r\n",
        "\r\n",
        "num=int (input(\"Numero: \"))\r\n",
        "print(\"el 1 es NUmero Perfecto \")\r\n",
        "for i in range (1,num):\r\n",
        "  cont=0\r\n",
        "  j=1\r\n",
        "  while j<=int (i/2):\r\n",
        "    if 1%j==0:\r\n",
        "      cont=cont+j\r\n",
        "    j=j+1\r\n",
        "  if cont ==i:\r\n",
        "    print(f\"el numero {i} es perfecto\")\r\n"
      ],
      "execution_count": 68,
      "outputs": [
        {
          "output_type": "stream",
          "text": [
            "Numero: 7\n",
            "el 1 es NUmero Perfecto \n"
          ],
          "name": "stdout"
        }
      ]
    }
  ]
}