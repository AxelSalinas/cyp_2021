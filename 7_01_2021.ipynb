{
  "nbformat": 4,
  "nbformat_minor": 0,
  "metadata": {
    "colab": {
      "name": "7/01/2021.ipynb",
      "provenance": [],
      "authorship_tag": "ABX9TyOPL+B05tUGQUGldQSHJXFx",
      "include_colab_link": true
    },
    "kernelspec": {
      "name": "python3",
      "display_name": "Python 3"
    }
  },
  "cells": [
    {
      "cell_type": "markdown",
      "metadata": {
        "id": "view-in-github",
        "colab_type": "text"
      },
      "source": [
        "<a href=\"https://colab.research.google.com/github/AxelSalinas/cyp_2021/blob/main/7_01_2021.ipynb\" target=\"_parent\"><img src=\"https://colab.research.google.com/assets/colab-badge.svg\" alt=\"Open In Colab\"/></a>"
      ]
    },
    {
      "cell_type": "code",
      "metadata": {
        "id": "0Z9RTpptJZ6U"
      },
      "source": [
        "Ren = 5\r\n",
        "Col = 5\r\n",
        "Vec = [[0 for x in range(Col)] for x in range(Ren)]\r\n",
        "print(Vec)\r\n",
        "Vec[1][2] = 15\r\n",
        "print(Vec)\r\n",
        "\r\n",
        "print(\"Automatizar el recorrido del arreglo\")\r\n",
        "for i in range(Ren):\r\n",
        "  for j in range(Col):\r\n",
        "    print(f\"{i},{j} = {Vec[i][j]}\")"
      ],
      "execution_count": null,
      "outputs": []
    },
    {
      "cell_type": "code",
      "metadata": {
        "id": "x49IBhRhJ-A2",
        "colab": {
          "base_uri": "https://localhost:8080/"
        },
        "outputId": "25af0702-05f1-42c9-d808-025a118e1ba9"
      },
      "source": [
        "estados = 2\r\n",
        "\r\n",
        "lluvias_men_est= [ [0 for x in range(12)] for x in range(estados)]\r\n",
        "print(lluvias_men_est)\r\n",
        "for i in range(estados):\r\n",
        "  for j in range(12):\r\n",
        "    mensaje=\"Dame el valor del mes: \"+str (i+1)+\"del mes\"+str (j+1),\":12\"\r\n",
        "    aux = int (input(mensaje))\r\n",
        "    lluvias_men_est[i][j] = aux\r\n",
        "print(lluvias_men_est)\r\n",
        "\r\n",
        "print(\"PROMEDIO DE LLUVIAS EN LOS ESTADOS\")\r\n",
        "SUMA = 0\r\n",
        "PROM = 0\r\n",
        "for i in range(estados):\r\n",
        "  for j in range(12):\r\n",
        "    SUMA = SUMA + lluvias_men_est[i][j]\r\n",
        "  print(f\"El promedio de lluvias {i + 1} es {SUMA / 12}\")"
      ],
      "execution_count": 4,
      "outputs": [
        {
          "output_type": "stream",
          "text": [
            "[[0, 0, 0, 0, 0, 0, 0, 0, 0, 0, 0, 0], [0, 0, 0, 0, 0, 0, 0, 0, 0, 0, 0, 0]]\n",
            "Dame el valor del mes: 1del mes1,:50\n",
            "Dame el valor del mes: 1del mes2,:10\n",
            "Dame el valor del mes: 1del mes3,:21\n",
            "Dame el valor del mes: 1del mes4,:30\n",
            "Dame el valor del mes: 1del mes5,:12\n",
            "Dame el valor del mes: 1del mes6,:43\n",
            "Dame el valor del mes: 1del mes7,:12\n",
            "Dame el valor del mes: 1del mes8,:52\n",
            "Dame el valor del mes: 1del mes9,:04\n",
            "Dame el valor del mes: 1del mes10,:21\n",
            "Dame el valor del mes: 1del mes11,:43\n",
            "Dame el valor del mes: 1del mes12,:12\n",
            "Dame el valor del mes: 2del mes1,:43\n",
            "Dame el valor del mes: 2del mes2,:12\n",
            "Dame el valor del mes: 2del mes3,:43\n",
            "Dame el valor del mes: 2del mes4,:12\n",
            "Dame el valor del mes: 2del mes5,:43\n",
            "Dame el valor del mes: 2del mes6,:23\n",
            "Dame el valor del mes: 2del mes7,:12\n",
            "Dame el valor del mes: 2del mes8,:42\n",
            "Dame el valor del mes: 2del mes9,:21\n",
            "Dame el valor del mes: 2del mes10,:43\n",
            "Dame el valor del mes: 2del mes11,:12\n",
            "Dame el valor del mes: 2del mes12,:53\n",
            "[[50, 10, 21, 30, 12, 43, 12, 52, 4, 21, 43, 12], [43, 12, 43, 12, 43, 23, 12, 42, 21, 43, 12, 53]]\n",
            "PROMEDIO DE LLUVIAS EN LOS ESTADOS\n",
            "El promedio de lluvias 1 es 25.833333333333332\n",
            "El promedio de lluvias 2 es 55.75\n"
          ],
          "name": "stdout"
        }
      ]
    },
    {
      "cell_type": "code",
      "metadata": {
        "id": "lazrtX5_Ja0s"
      },
      "source": [
        ""
      ],
      "execution_count": null,
      "outputs": []
    }
  ]
}