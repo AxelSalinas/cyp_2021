{
  "nbformat": 4,
  "nbformat_minor": 0,
  "metadata": {
    "colab": {
      "name": "tarea5.ipynb",
      "provenance": [],
      "authorship_tag": "ABX9TyMNmk0D9pxFHEJPlymSo73C",
      "include_colab_link": true
    },
    "kernelspec": {
      "name": "python3",
      "display_name": "Python 3"
    }
  },
  "cells": [
    {
      "cell_type": "markdown",
      "metadata": {
        "id": "view-in-github",
        "colab_type": "text"
      },
      "source": [
        "<a href=\"https://colab.research.google.com/github/AxelSalinas/cyp_2021/blob/main/tarea5.ipynb\" target=\"_parent\"><img src=\"https://colab.research.google.com/assets/colab-badge.svg\" alt=\"Open In Colab\"/></a>"
      ]
    },
    {
      "cell_type": "code",
      "metadata": {
        "colab": {
          "base_uri": "https://localhost:8080/"
        },
        "id": "I-pQdLTDwWuO",
        "outputId": "067af224-24c5-4d8b-eca7-f12dab0f4366"
      },
      "source": [
        "\n",
        "sue1= float (input(\"sueldo 1: \"))\n",
        "sue2= float (input(\"sueldo 2: \"))\n",
        "sue3= float (input(\"sueldo 3: \"))\n",
        "sue4= float (input(\"sueldo 4: \"))\n",
        "sue5= float (input(\"sueldo 5: \"))\n",
        "sue6= float (input(\"sueldo 6: \"))\n",
        "sue7= float (input(\"sueldo 7: \"))\n",
        "sue8= float (input(\"sueldo 8: \"))\n",
        "sue9= float (input(\"sueldo 9: \"))\n",
        "sue10= float (input(\"sueldo 10: \"))\n",
        "\n",
        "NOM=sue1+sue2+sue3+sue4+sue5+sue6+sue7+sue8+sue9+sue10\n",
        "\n",
        "print(\"total de la nomina: $\",NOM)\n",
        "    \n",
        "\n",
        "\n",
        "  "
      ],
      "execution_count": 58,
      "outputs": [
        {
          "output_type": "stream",
          "text": [
            "sueldo 1: 12312\n",
            "sueldo 2: 12323\n",
            "sueldo 3: 423423\n",
            "sueldo 4: 8234\n",
            "sueldo 5: 23623\n",
            "sueldo 6: 657435\n",
            "sueldo 7: 23425\n",
            "sueldo 8: 34574\n",
            "sueldo 9: 23523\n",
            "sueldo 10: 63453\n",
            "total de la nomina: $ 1282325.0\n"
          ],
          "name": "stdout"
        }
      ]
    },
    {
      "cell_type": "code",
      "metadata": {
        "colab": {
          "base_uri": "https://localhost:8080/"
        },
        "id": "GIms3GxaBhxN",
        "outputId": "ef89cbbc-71dc-4d22-e69c-e8df7feecd00"
      },
      "source": [
        "gasto= int (input(\"Gasto \"))\n",
        "sumgast=0\n",
        "\n",
        "\n",
        "while  gasto>0:\n",
        "  print(\"el gasto es \",gasto)\n",
        "  if gasto>0:\n",
        "    print(\"coloca otro gasto\")\n",
        "    gasto=int (input(\"Cuanto gastaste? \"))\n",
        "  if gasto>0:\n",
        "    sumatotal= gasto + gasto \n",
        "    print(\"tu gasto total es: \"+ str (sumatotal))\n",
        "    break;"
      ],
      "execution_count": 57,
      "outputs": [
        {
          "output_type": "stream",
          "text": [
            "Gasto 1231\n",
            "el gasto es  1231\n",
            "coloca otro gasto\n",
            "Cuanto gastaste? 1231\n",
            "tu gasto total es: 2462\n"
          ],
          "name": "stdout"
        }
      ]
    }
  ]
}