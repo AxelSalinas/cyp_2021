{
  "nbformat": 4,
  "nbformat_minor": 0,
  "metadata": {
    "colab": {
      "name": "12/01/2021.ipynb",
      "provenance": [],
      "authorship_tag": "ABX9TyN0g6AfLXA6CRPoz5k8C8uZ",
      "include_colab_link": true
    },
    "kernelspec": {
      "name": "python3",
      "display_name": "Python 3"
    }
  },
  "cells": [
    {
      "cell_type": "markdown",
      "metadata": {
        "id": "view-in-github",
        "colab_type": "text"
      },
      "source": [
        "<a href=\"https://colab.research.google.com/github/AxelSalinas/cyp_2021/blob/main/12_01_2021.ipynb\" target=\"_parent\"><img src=\"https://colab.research.google.com/assets/colab-badge.svg\" alt=\"Open In Colab\"/></a>"
      ]
    },
    {
      "cell_type": "code",
      "metadata": {
        "id": "c_9O4S-UmhBz"
      },
      "source": [
        "#introduccion a python\r\n",
        "###\r\n",
        "creado en los 90´s por Guido Van R.\r\n",
        "en el 2000 python mejora y tiene actualizaciones\r\n",
        "en 2020 deja de ser la version oficial 2.7 y solo se dara soporte a la version 3 en adelante \r\n",
        "## caracteristicas de python\r\n",
        "1. Lenguaje de proposito general\r\n",
        "2.interpretado y no-compilado\r\n",
        "3. Tipos de datos dinamicos(numericos,cadena,bool, entre otros)\r\n",
        "4.Multiplataforma\r\n",
        "5.Lenguaje multiparadigma. imperativa,POO y funcional\r\n",
        "6.COdigo estructurado por identacion\r\n",
        "###\r\n",
        "´´´\r\n",
        "if >10:\r\n",
        "  print(\"hola\")\r\n",
        "print(\"hola\")\r\n",
        "\r\n",
        "´´´\r\n",
        "##Principios zen\r\n",
        "Son caracteristicas que guian el lenguaje de programacion python\r\n",
        "\r\n",
        "\r\n"
      ],
      "execution_count": null,
      "outputs": []
    },
    {
      "cell_type": "code",
      "metadata": {
        "colab": {
          "base_uri": "https://localhost:8080/"
        },
        "id": "V8geASbeur2g",
        "outputId": "b7ad4590-f462-4016-b5c6-1e3c0252b15a"
      },
      "source": [
        "#primer programa python 3\r\n",
        "nombre=\"juanito\"\r\n",
        "edad=213\r\n",
        "print(\"hola\",nombre,edad)"
      ],
      "execution_count": null,
      "outputs": [
        {
          "output_type": "stream",
          "text": [
            "hola juanito 213\n"
          ],
          "name": "stdout"
        }
      ]
    },
    {
      "cell_type": "code",
      "metadata": {
        "id": "1swSS3OavzZJ"
      },
      "source": [
        "#La funcion print()\r\n",
        "es una de las funciones mas usadas en la programacion y busca enviar datos a la salida estandar(monitor)\r\n",
        "\r\n",
        "###formas de uso\r\n",
        "1.con comas\r\n",
        "2.con sigons +\r\n",
        "3.format()\r\n",
        "4.el operador f\"\"\r\n",
        "\r\n",
        "con comas \r\n",
        "concatena los argumentos enviados al print y les agrega un espacio\r\n",
        "\r\n",
        "con signos+ \r\n",
        "concatena los valores sin espacio y hace conversion de tipos\r\n",
        "\r\n",
        "con funcion format()\r\n",
        "### permite darle salida a la impresion de variables. emplea la funion format del tipo de dato string\r\n",
        "\"cadena {} a {} forma{}tear\".format(v1,v2,vn)\r\n",
        "emplea como comodines para sustituir valores {}\r\n",
        "###operador f\r\n",
        "es una variable de la anterior pero enmascarando la funcion format\r\n",
        "print(f\"jijiji{var1}ostia{var2}\")\r\n"
      ],
      "execution_count": null,
      "outputs": []
    },
    {
      "cell_type": "code",
      "metadata": {
        "colab": {
          "base_uri": "https://localhost:8080/"
        },
        "id": "uelb93Ijw_Ea",
        "outputId": "3979ae39-9242-48b4-cc23-ef8450eaf28a"
      },
      "source": [
        "print(\"hola\",nombre,edad)\r\n",
        "print(\"hola \"+nombre+\" \"+str(edad))\r\n",
        "##nombre: juanit, con una edad de: 18 años\r\n",
        "print(\"Nombre:\", nombre,\",con una edad de: \",edad, \"años\")\r\n",
        "print(\"Nombre:\"+nombre + \" ,con una edad de: \"+ str (edad) + \" años\")\r\n",
        "#con format()\r\n",
        "print(\"nombre: {} con una edad de: {} años\" .format(nombre,edad))\r\n",
        "#con operador f\r\n",
        "print(f\"nombre: {nombre} con una de edad de: {edad} años\")\r\n",
        "\r\n"
      ],
      "execution_count": null,
      "outputs": [
        {
          "output_type": "stream",
          "text": [
            "hola juanito 213\n",
            "hola juanito 213\n",
            "Nombre: juanito ,con una edad de:  213 años\n",
            "Nombre:juanito ,con una edad de: 213 años\n",
            "nombre: juanito con una edad de: 213 años\n",
            "nombre: juanito con una de edad de: 213 años\n"
          ],
          "name": "stdout"
        }
      ]
    },
    {
      "cell_type": "code",
      "metadata": {
        "id": "HNufJP792MNP"
      },
      "source": [
        "# la funcion print y los caracteres de escape\r\n",
        "\\n salto de linea\r\n",
        "\\t tabulador\r\n",
        "\\\\imprimir la diagonal\\\r\n",
        "'y\"\r\n",
        "\\uxxxx\r\n",
        "\\uxxxxxxx\r\n"
      ],
      "execution_count": null,
      "outputs": []
    },
    {
      "cell_type": "code",
      "metadata": {
        "colab": {
          "base_uri": "https://localhost:8080/"
        },
        "id": "zqYeILWs2de8",
        "outputId": "56390c37-c623-45d6-f276-07c01e14b054"
      },
      "source": [
        "print('\"')\r\n",
        "print(\"\\\"\")\r\n",
        "print(\"nombre: Juanito\\n\\tcon una de edad de: 18 años\")\r\n",
        "#caracteres unicode\r\n",
        "\r\n",
        "print(\"hola \\u2661\")\r\n",
        "#print salto de linea en el argumento\r\n",
        "print(\"a \", end= \" \\u6666\")\r\n",
        "print(\" b \", end= \"-----\")\r\n",
        "print(\" c \", end= \"\\n\")"
      ],
      "execution_count": 53,
      "outputs": [
        {
          "output_type": "stream",
          "text": [
            "\"\n",
            "\"\n",
            "nombre: Juanito\n",
            "\tcon una de edad de: 18 años\n",
            "hola ♡\n",
            "a  晦 b ----- c \n"
          ],
          "name": "stdout"
        }
      ]
    },
    {
      "cell_type": "code",
      "metadata": {
        "id": "-mUDsfaf9fz1"
      },
      "source": [
        "#comentarios en python.\r\n",
        "\r\n",
        "un comentario en programacion, es un texto especial que es ignorado por el interprete o compilador (segun el lenguaje) y es empleado para que el programador documente sus algoritmos, exiten 2 tipos \r\n",
        "- de linea simple\r\n",
        "-de multiple linea\r\n",
        "\r\n",
        "en python para linea simple emple\r\n",
        "a \r\n",
        "#comentario de linea simple \r\n",
        "\r\n",
        "y para linea multiple emplea \r\n",
        "\"\"\"\r\n",
        "sdad\r\n",
        "asdasda\r\n",
        "comentario de linea multiple\r\n",
        "\"\"\"\r\n"
      ],
      "execution_count": null,
      "outputs": []
    },
    {
      "cell_type": "code",
      "metadata": {
        "colab": {
          "base_uri": "https://localhost:8080/"
        },
        "id": "OSgxsw21-j0A",
        "outputId": "9976a03e-e2e7-45e0-ec3b-a6acdd03a0ab"
      },
      "source": [
        "print(\"hola\")\r\n",
        "#esta linea imprime hola\r\n",
        "print(\"hola\")\r\n",
        "\"\"\"\r\n",
        "comentario \r\n",
        "de multiple\r\n",
        "linea\r\n",
        "\"\"\"\r\n",
        "print(\"hola\")\r\n",
        "print(\"hola\")\r\n",
        "print(\"hola\")\r\n",
        "print(\"hola\")"
      ],
      "execution_count": 54,
      "outputs": [
        {
          "output_type": "stream",
          "text": [
            "hola\n",
            "hola\n",
            "hola\n",
            "hola\n",
            "hola\n",
            "hola\n"
          ],
          "name": "stdout"
        }
      ]
    }
  ]
}