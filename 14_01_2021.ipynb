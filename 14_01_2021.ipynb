{
  "nbformat": 4,
  "nbformat_minor": 0,
  "metadata": {
    "colab": {
      "name": "14/01/2021.ipynb",
      "provenance": [],
      "authorship_tag": "ABX9TyP8/ZGW+8wKk7vX5To+KML1",
      "include_colab_link": true
    },
    "kernelspec": {
      "name": "python3",
      "display_name": "Python 3"
    }
  },
  "cells": [
    {
      "cell_type": "markdown",
      "metadata": {
        "id": "view-in-github",
        "colab_type": "text"
      },
      "source": [
        "<a href=\"https://colab.research.google.com/github/AxelSalinas/cyp_2021/blob/main/14_01_2021.ipynb\" target=\"_parent\"><img src=\"https://colab.research.google.com/assets/colab-badge.svg\" alt=\"Open In Colab\"/></a>"
      ]
    },
    {
      "cell_type": "markdown",
      "metadata": {
        "id": "tiwr10XL5GWP"
      },
      "source": [
        "#palabras reservadas de python 3\r\n",
        "1. False\r\n",
        "1. None\r\n",
        "1. True\r\n",
        "1. and\r\n",
        "1. as\r\n",
        "1. assert\r\n",
        "1. break\r\n",
        "1. class\r\n",
        "1. continue\r\n",
        "1. def\r\n",
        "1. del\r\n",
        "1. elif\r\n",
        "1. else\r\n",
        "1. except\r\n",
        "1. finally\r\n",
        "1. for\r\n",
        "1. from\r\n",
        "1. global\r\n",
        "1. if\r\n",
        "1. import\r\n",
        "1. in\r\n",
        "1. is\r\n",
        "1. lambda\r\n",
        "1. nonlocal\r\n",
        "1. not\r\n",
        "1. or\r\n",
        "1. pass\r\n",
        "1. raise\r\n",
        "1. return\r\n",
        "1. try\r\n",
        "1. while\r\n",
        "1. with\r\n",
        "1. yield\r\n",
        "\r\n",
        "\r\n"
      ]
    },
    {
      "cell_type": "code",
      "metadata": {
        "colab": {
          "base_uri": "https://localhost:8080/"
        },
        "id": "Y55NmdkX5X9n",
        "outputId": "1145398b-4817-44ad-ecfa-2a37e86881b7"
      },
      "source": [
        "import keyword\r\n",
        "pr= keyword.kwlist\r\n",
        "print(len(pr))\r\n",
        "for palabra in (pr):\r\n",
        "  print(\"1.\",palabra)"
      ],
      "execution_count": 12,
      "outputs": [
        {
          "output_type": "stream",
          "text": [
            "33\n",
            "1. False\n",
            "1. None\n",
            "1. True\n",
            "1. and\n",
            "1. as\n",
            "1. assert\n",
            "1. break\n",
            "1. class\n",
            "1. continue\n",
            "1. def\n",
            "1. del\n",
            "1. elif\n",
            "1. else\n",
            "1. except\n",
            "1. finally\n",
            "1. for\n",
            "1. from\n",
            "1. global\n",
            "1. if\n",
            "1. import\n",
            "1. in\n",
            "1. is\n",
            "1. lambda\n",
            "1. nonlocal\n",
            "1. not\n",
            "1. or\n",
            "1. pass\n",
            "1. raise\n",
            "1. return\n",
            "1. try\n",
            "1. while\n",
            "1. with\n",
            "1. yield\n"
          ],
          "name": "stdout"
        }
      ]
    },
    {
      "cell_type": "markdown",
      "metadata": {
        "id": "kAEM_N6i61bY"
      },
      "source": [
        "##variable\r\n",
        "es un espacio de memoria en la computadora que para almacenar valores que cambian a lo largo de la ejecucion del programa. este espacio de memoria esta referenciado con un identificador, el cual tiene reglas de nombrado.\r\n",
        "-puede iniciar con guion bajo\r\n",
        "-no deben ser iguales a las palabras reservadas\r\n",
        "-evitar nombres largos\r\n",
        "-evitar nombres cortos ejemplos(x,y)\r\n",
        "-no puede iniciar con un numero\r\n",
        "-usar notacion snake_case"
      ]
    },
    {
      "cell_type": "code",
      "metadata": {
        "colab": {
          "base_uri": "https://localhost:8080/",
          "height": 52
        },
        "id": "68VCOK0r5ix6",
        "outputId": "7142c798-d317-4195-de59-8c45cc789233"
      },
      "source": [
        "_2edad= 12\r\n",
        "print(_2edad)\r\n",
        "\"\"\"\r\n",
        "no se puede utilizar identificadores de variables iguales a las palabras reservadas\r\n",
        "for=12\r\n",
        "print(for)\r\n",
        "\"\"\""
      ],
      "execution_count": 16,
      "outputs": [
        {
          "output_type": "stream",
          "text": [
            "12\n"
          ],
          "name": "stdout"
        },
        {
          "output_type": "execute_result",
          "data": {
            "application/vnd.google.colaboratory.intrinsic+json": {
              "type": "string"
            },
            "text/plain": [
              "'\\nno se puede utilizar identificadores de variables iguales a las palabras reservadas\\nfor=12\\nprint(for)\\n'"
            ]
          },
          "metadata": {
            "tags": []
          },
          "execution_count": 16
        }
      ]
    },
    {
      "cell_type": "code",
      "metadata": {
        "id": "w-ipgD9S9I_S"
      },
      "source": [
        "\"\"\"\r\n",
        "la notacion snake_case consta de separar las palabras del identificador de la variable con un guion bajo\r\n",
        "dias_de_la_semana=7\r\n",
        "meses_del_año=12\r\n",
        "limite_maximo=1000202\r\n",
        "\r\n",
        "-Lower camel case\r\n",
        "semanasDelMes=342342\r\n",
        "\r\n",
        "-upper camel case\r\n",
        "SemanasDelMes=1231231\r\n",
        "\r\n",
        "se recomienda escribir los identificadores de variables en minusculas y en mayusculas las constantes\r\n",
        "\r\n",
        "\"\"\""
      ],
      "execution_count": null,
      "outputs": []
    },
    {
      "cell_type": "markdown",
      "metadata": {
        "id": "ZNHr0TAw95TS"
      },
      "source": [
        "##tipos de datos\r\n",
        "-numericos \r\n",
        "   -int      4bytes (1,2,3,4,1000000,etc.)\r\n",
        "   -long     8 bytes (1,2,3,4,1000000,etc.)\r\n",
        "   -float    4bytes (1.1,2.1,3.1,4.1,1000000.121,etc.)\r\n",
        "   -complex  3+2i   (raices negativas)\r\n",
        "-boolean: true o false\r\n",
        "-String cadenas de caracteres (\"cad\",'cad',\"\"\"cad\"\"\")\r\n",
        "-listas [1,2,3,4]\r\n",
        "-tuplas ((edad,12),(1,2)\r\n",
        "-conjuntos\r\n",
        "-diccionarios (\r\n"
      ]
    },
    {
      "cell_type": "markdown",
      "metadata": {
        "id": "9LtSrjzJEYjt"
      },
      "source": [
        "#tipo de dato string\r\n",
        "este dato permite almacenar cadenas de caracteres\r\n",
        "\r\n",
        "nombre='juanito'\r\n",
        "lugar_nacimiento=\"Mexico\"\r\n",
        "frase_fav=\"\"\"\r\n",
        "si pesa mas que\r\n",
        " un pollo \r\n",
        "me lo follo\r\n",
        "\"\"\"\r\n"
      ]
    },
    {
      "cell_type": "markdown",
      "metadata": {
        "id": "CvT3DTYWFmdh"
      },
      "source": [
        "#strings como arreglos\r\n",
        "en python es almacenado como un tipo de dato\r\n",
        "\r\n",
        "por ejemplo\r\n",
        "´´´\r\n",
        "nombre=juanin\r\n",
        "\r\n",
        " el elemento j es almacenado en 0  asi sucesivamente\r\n",
        "\r\n",
        " \r\n",
        "´´´\r\n",
        "#selector\r\n",
        "la notacion para seleccionarun elemento del arreglo es:\r\n",
        "[1]\r\n"
      ]
    },
    {
      "cell_type": "markdown",
      "metadata": {
        "id": "PBfpHnJZHmVP"
      },
      "source": [
        "#iterar con string\r\n",
        "se puede iterar con un for\r\n",
        "\r\n",
        "\r\n",
        "```\r\n",
        "letra\r\n",
        "for letra in range(len(nombre)):\r\n",
        "print(letra\r\n",
        "\r\n",
        "```\r\n",
        "\r\n"
      ]
    },
    {
      "cell_type": "markdown",
      "metadata": {
        "id": "XtXowqV1MAOA"
      },
      "source": [
        "#strings e idenxado negativo\r\n",
        "en phyton 3 se agrega una nueva caracteristica a los arreglos de las cadenas de caracteres, esto permite hacer idenxado negativo\r\n",
        "\r\n",
        "el ultimo elemento se le considera (alternativo) -1\r\n",
        "con lo que se hace referencia al ultimo caracter si necesidad de saber el tamaño de la cantidad de elementos\r\n"
      ]
    },
    {
      "cell_type": "code",
      "metadata": {
        "colab": {
          "base_uri": "https://localhost:8080/"
        },
        "id": "Zy1_UDwdMkx4",
        "outputId": "ea72dd83-83c4-4153-8fd3-9510096d0a02"
      },
      "source": [
        "nombre=\"Axel\"\r\n",
        "print(nombre[3])\r\n",
        "print(nombre[-1])"
      ],
      "execution_count": 23,
      "outputs": [
        {
          "output_type": "stream",
          "text": [
            "l\n",
            "l\n"
          ],
          "name": "stdout"
        }
      ]
    },
    {
      "cell_type": "markdown",
      "metadata": {
        "id": "I5lQ8wtvQh0u"
      },
      "source": [
        "#slicing de cadenas de caracteres"
      ]
    },
    {
      "cell_type": "code",
      "metadata": {
        "id": "t4_4EpfQRAqS"
      },
      "source": [
        ""
      ],
      "execution_count": null,
      "outputs": []
    },
    {
      "cell_type": "code",
      "metadata": {
        "colab": {
          "base_uri": "https://localhost:8080/"
        },
        "id": "Nbim9etmQije",
        "outputId": "d5a8af47-84fc-41e6-f351-5e8c312de728"
      },
      "source": [
        "facultad=\"Facultad de estudios Superiores Aregon(la mejor)\"\r\n",
        "print(facultad)\r\n",
        "\r\n",
        "for indice in range(12,20):\r\n",
        "  print(facultad[indice],end=\"\")\r\n",
        "\r\n",
        "#hacer esto con slicing se logra asi:\r\n",
        "\r\n",
        " \r\n",
        "print(facultad[12:20:1])\r\n",
        "print(facultad[9:11:1])"
      ],
      "execution_count": 41,
      "outputs": [
        {
          "output_type": "stream",
          "text": [
            "Facultad de estudios Superiores Aregon(la mejor)\n",
            "estudiosestudios\n",
            "de\n"
          ],
          "name": "stdout"
        }
      ]
    }
  ]
}