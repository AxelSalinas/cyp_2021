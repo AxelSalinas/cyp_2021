{
  "nbformat": 4,
  "nbformat_minor": 0,
  "metadata": {
    "colab": {
      "name": "17/11/2020 CyP",
      "provenance": [],
      "authorship_tag": "ABX9TyP1BHi4oieyTUzc/CJZCss+",
      "include_colab_link": true
    },
    "kernelspec": {
      "name": "python3",
      "display_name": "Python 3"
    }
  },
  "cells": [
    {
      "cell_type": "markdown",
      "metadata": {
        "id": "view-in-github",
        "colab_type": "text"
      },
      "source": [
        "<a href=\"https://colab.research.google.com/github/AxelSalinas/cyp_2021/blob/main/17_11_2020_CyP.ipynb\" target=\"_parent\"><img src=\"https://colab.research.google.com/assets/colab-badge.svg\" alt=\"Open In Colab\"/></a>"
      ]
    },
    {
      "cell_type": "code",
      "metadata": {
        "colab": {
          "base_uri": "https://localhost:8080/"
        },
        "id": "Y3KDh6E8R-_n",
        "outputId": "c574c0c4-c847-401f-9454-de980aa37109"
      },
      "source": [
        "edad = 15\n",
        "estatura = 1.68\n",
        "a = 10\n",
        "b = 3\n",
        "\n",
        "c = 2**b+2+6+7\n",
        "\n",
        "print(c)\n",
        "\n",
        "e = estatura *2.0\n",
        "print(e)\n",
        "\n",
        "f=a/b # en python el cálculo se hace exacto\n",
        "\n",
        "print(f)\n",
        "\n",
        "# tambien podemos forzar al calculo de enteros \n",
        "g= a//b\n",
        "\n",
        "print(\"g=\",g)\n",
        "\n",
        "h= a%b \n",
        "print(\"h=\",h)\n",
        "\n",
        "num = 9\n",
        "print(\"es par num ?\"), num% 2 == 0\n",
        "\n"
      ],
      "execution_count": 11,
      "outputs": [
        {
          "output_type": "stream",
          "text": [
            "23\n",
            "3.36\n",
            "3.3333333333333335\n",
            "g= 3\n",
            "h= 1\n",
            "es par num ?\n"
          ],
          "name": "stdout"
        },
        {
          "output_type": "execute_result",
          "data": {
            "text/plain": [
              "(None, False)"
            ]
          },
          "metadata": {
            "tags": []
          },
          "execution_count": 11
        }
      ]
    },
    {
      "cell_type": "code",
      "metadata": {
        "colab": {
          "base_uri": "https://localhost:8080/"
        },
        "id": "okc7jNGNW20e",
        "outputId": "94a25550-43ba-40cf-d418-5dcd5215ca57"
      },
      "source": [
        "ecuacion = 9+7*8-36/5   # 9+56 -7.2 -> 65 - 7.2 = 57.8\n",
        "print(ecuacion)\n",
        "\n",
        "ecuacion = (9+7)*8-36/5   # 128 -7.2 = 120.8\n",
        "print(ecuacion)\n",
        "\n",
        "ecuacion = 9+7*(8-36)/5   # 9+56 -7.2 -> 65 - 7.2 = 57.8\n",
        "print(ecuacion)\n"
      ],
      "execution_count": 15,
      "outputs": [
        {
          "output_type": "stream",
          "text": [
            "57.8\n",
            "120.8\n",
            "-30.200000000000003\n"
          ],
          "name": "stdout"
        }
      ]
    },
    {
      "cell_type": "code",
      "metadata": {
        "colab": {
          "base_uri": "https://localhost:8080/"
        },
        "id": "YPrKmhl-b1u3",
        "outputId": "cc49e326-6a34-45c5-928e-3f554fb24223"
      },
      "source": [
        "# operadores logicos ---> TRUE Y FALSE\n",
        "x= 5\n",
        "y=4\n",
        "\n",
        "valor= x == y # son diferentes ?\n",
        "print(valor)\n",
        "\n",
        "valor= x != y # son iguales ?\n",
        "print(valor)\n",
        "\n",
        "valor= x < y # es menor que y ?\n",
        "print(valor)\n",
        "\n",
        "valor= x > y # es mayor que y ?\n",
        "print(valor)\n",
        "\n",
        "y=5\n",
        "valor= x <= y # es menor o igual que y ?\n",
        "print(valor)"
      ],
      "execution_count": 28,
      "outputs": [
        {
          "output_type": "stream",
          "text": [
            "False\n",
            "True\n",
            "False\n",
            "True\n",
            "True\n"
          ],
          "name": "stdout"
        }
      ]
    },
    {
      "cell_type": "code",
      "metadata": {
        "colab": {
          "base_uri": "https://localhost:8080/"
        },
        "id": "TcGYsMhmffkI",
        "outputId": "04835c61-e276-48d5-9add-468992c777bf"
      },
      "source": [
        "costo_chetos=7.0\n",
        "tienda_abierta= True  \n",
        "capital_en_bolsa= 10.0\n",
        "\n",
        "se_compra= (costo_chetos < capital_en_bolsa) and (tienda_abierta == True)\n",
        "print(se_compra)"
      ],
      "execution_count": 34,
      "outputs": [
        {
          "output_type": "stream",
          "text": [
            "True\n"
          ],
          "name": "stdout"
        }
      ]
    }
  ]
}