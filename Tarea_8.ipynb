{
  "nbformat": 4,
  "nbformat_minor": 0,
  "metadata": {
    "colab": {
      "name": "Tarea 8.ipynb",
      "provenance": [],
      "authorship_tag": "ABX9TyOmcPJ5aGotrKiUUH3C6INZ",
      "include_colab_link": true
    },
    "kernelspec": {
      "name": "python3",
      "display_name": "Python 3"
    }
  },
  "cells": [
    {
      "cell_type": "markdown",
      "metadata": {
        "id": "view-in-github",
        "colab_type": "text"
      },
      "source": [
        "<a href=\"https://colab.research.google.com/github/AxelSalinas/cyp_2021/blob/main/Tarea_8.ipynb\" target=\"_parent\"><img src=\"https://colab.research.google.com/assets/colab-badge.svg\" alt=\"Open In Colab\"/></a>"
      ]
    },
    {
      "cell_type": "code",
      "metadata": {
        "colab": {
          "base_uri": "https://localhost:8080/"
        },
        "id": "_GvQlEfBKZch",
        "outputId": "92488e3f-2340-4db9-af2f-1aeec54e9f55"
      },
      "source": [
        "#tarea 8\r\n",
        "\r\n",
        "print(\"\\u2501\\u2501\\u2501\\u2501\\u2501\\u2501\\u2501\\u2501\\u2501\\u2501\\u2501\\u2501\\u2501\\u2501\\u2501\\u2501\\u2501\\u2501\\u2501\\u2501\\u2501\\u2501\\u2501\\u2501\\u2501\\u2501\\u2501\\u2501\\u2501\\u2501\\u2501\\u2501\\u2501\\u2501\\u2501\\u2501\\u2501\\u2501\\u2501\\u2501\\u2501\\u2501\")\r\n",
        "print(\" \\u2503                                      \\u2503  \") \r\n",
        "print(\"  \\u2503     \\u0F20\\u0F20       \\u0F20   \\u0F20    \\u0F20 \\u0F20 \\u0F20    \\u0F20      \\u2503  \") \r\n",
        "print(\" \\u2503     \\u0F20  \\u0F20       \\u0F20 \\u0F20     \\u0F20       \\u0F20       \\u2503  \") \r\n",
        "print(\"  \\u2503    \\u0F20  \\u0F20       \\u0F20 \\u0F20     \\u0F20 \\u0F20 \\u0F20    \\u0F20      \\u2503  \") \r\n",
        "print(\" \\u2503    \\u0F20    \\u0F20     \\u0F20   \\u0F20    \\u0F20       \\u0F20       \\u2503  \") \r\n",
        "print(\"  \\u2503  \\u0F20      \\u0F20   \\u0F20     \\u0F20   \\u0F20 \\u0F20 \\u0F20    \\u0F20 \\u0F20 \\u0F20 \\u0F20 \\u2503  \") \r\n",
        "print(\"\\u2501\\u2501\\u2501\\u2501\\u2501\\u2501\\u2501\\u2501\\u2501\\u2501\\u2501\\u2501\\u2501\\u2501\\u2501\\u2501\\u2501\\u2501\\u2501\\u2501\\u2501\\u2501\\u2501\\u2501\\u2501\\u2501\\u2501\\u2501\\u2501\\u2501\\u2501\\u2501\\u2501\\u2501\\u2501\\u2501\\u2501\\u2501\\u2501\\u2501\\u2501\\u2501\")\r\n",
        "\r\n",
        "\r\n",
        "\r\n",
        "\r\n",
        "\r\n"
      ],
      "execution_count": 170,
      "outputs": [
        {
          "output_type": "stream",
          "text": [
            "━━━━━━━━━━━━━━━━━━━━━━━━━━━━━━━━━━━━━━━━━━\n",
            " ┃                                      ┃  \n",
            "  ┃     ༠༠       ༠   ༠    ༠ ༠ ༠    ༠      ┃  \n",
            " ┃     ༠  ༠       ༠ ༠     ༠       ༠       ┃  \n",
            "  ┃    ༠  ༠       ༠ ༠     ༠ ༠ ༠    ༠      ┃  \n",
            " ┃    ༠    ༠     ༠   ༠    ༠       ༠       ┃  \n",
            "  ┃  ༠      ༠   ༠     ༠   ༠ ༠ ༠    ༠ ༠ ༠ ༠ ┃  \n",
            "━━━━━━━━━━━━━━━━━━━━━━━━━━━━━━━━━━━━━━━━━━\n"
          ],
          "name": "stdout"
        }
      ]
    }
  ]
}