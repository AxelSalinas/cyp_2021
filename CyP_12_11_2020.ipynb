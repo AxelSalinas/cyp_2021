{
  "nbformat": 4,
  "nbformat_minor": 0,
  "metadata": {
    "colab": {
      "name": "CyP 12/11/2020",
      "provenance": [],
      "authorship_tag": "ABX9TyM/hKZTg8vs6mvpNqXVNz4A",
      "include_colab_link": true
    },
    "kernelspec": {
      "name": "python3",
      "display_name": "Python 3"
    }
  },
  "cells": [
    {
      "cell_type": "markdown",
      "metadata": {
        "id": "view-in-github",
        "colab_type": "text"
      },
      "source": [
        "<a href=\"https://colab.research.google.com/github/AxelSalinas/cyp_2021/blob/main/CyP_12_11_2020.ipynb\" target=\"_parent\"><img src=\"https://colab.research.google.com/assets/colab-badge.svg\" alt=\"Open In Colab\"/></a>"
      ]
    },
    {
      "cell_type": "code",
      "metadata": {
        "id": "UTarC68GcAx4",
        "outputId": "e0dd828e-6f93-4a14-88fd-121884b0aa9c",
        "colab": {
          "base_uri": "https://localhost:8080/"
        }
      },
      "source": [
        "#ejemplo 1\n",
        "numero= int(input(\"numero\"))\n",
        "if numero >0:\n",
        "  print(\"el numero es positivo\")\n",
        "\n",
        "print(\"(:\")\n",
        "\n",
        "\n",
        "\n"
      ],
      "execution_count": 10,
      "outputs": [
        {
          "output_type": "stream",
          "text": [
            "numero65\n",
            "el numero es positivo\n",
            "(:\n"
          ],
          "name": "stdout"
        }
      ]
    },
    {
      "cell_type": "code",
      "metadata": {
        "id": "bEL6ywqEgs_d",
        "outputId": "e26d5bfd-8a53-45b8-9848-dad1e86a0a82",
        "colab": {
          "base_uri": "https://localhost:8080/"
        }
      },
      "source": [
        "#ejemplo 2\n",
        "numero= int(input(\"Digite un numero\"))\n",
        "if numero >0:\n",
        "  print(\"El numero es positivo\")\n",
        "else:#sino imprime negativo\n",
        "  print(\"El numero es negativo\")\n",
        "\n",
        "\n"
      ],
      "execution_count": 12,
      "outputs": [
        {
          "output_type": "stream",
          "text": [
            "Digite un numero0\n",
            "El numero es negativo\n"
          ],
          "name": "stdout"
        }
      ]
    },
    {
      "cell_type": "code",
      "metadata": {
        "id": "MGlAHG4og8Za",
        "outputId": "443918c4-81d0-4c1b-cc75-a4525eb68691",
        "colab": {
          "base_uri": "https://localhost:8080/"
        }
      },
      "source": [
        "#ejemplo 3\n",
        "numero= int(input(\"Digite un numero\"))\n",
        "if numero >0:\n",
        "  print(\"El numero es positivo\")\n",
        "elif numero==0:\n",
        "  print(\"el numero es cero\")\n",
        "else:#sino imprime negativo\n",
        "  print(\"El numero es negativo\")\n",
        "\n",
        "print(\"(:\")"
      ],
      "execution_count": 17,
      "outputs": [
        {
          "output_type": "stream",
          "text": [
            "Digite un numero-5345\n",
            "El numero es negativo\n",
            "(:\n"
          ],
          "name": "stdout"
        }
      ]
    }
  ]
}