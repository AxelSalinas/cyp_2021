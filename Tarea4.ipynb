{
  "nbformat": 4,
  "nbformat_minor": 0,
  "metadata": {
    "colab": {
      "name": "Tarea4.ipynb",
      "provenance": [],
      "authorship_tag": "ABX9TyMYTK+EQTKzFaCRF+UosAOE",
      "include_colab_link": true
    },
    "kernelspec": {
      "name": "python3",
      "display_name": "Python 3"
    }
  },
  "cells": [
    {
      "cell_type": "markdown",
      "metadata": {
        "id": "view-in-github",
        "colab_type": "text"
      },
      "source": [
        "<a href=\"https://colab.research.google.com/github/AxelSalinas/cyp_2021/blob/main/Tarea4.ipynb\" target=\"_parent\"><img src=\"https://colab.research.google.com/assets/colab-badge.svg\" alt=\"Open In Colab\"/></a>"
      ]
    },
    {
      "cell_type": "code",
      "metadata": {
        "colab": {
          "base_uri": "https://localhost:8080/"
        },
        "id": "pWnxOShqiGGi",
        "outputId": "71ab831c-be6c-430b-c78e-0b25cb0e3716"
      },
      "source": [
        "# 2.4\n",
        "\n",
        "SUE= float(input(\"Salario\"))\n",
        "\n",
        "if SUE<1000:\n",
        "  nsueldo=(SUE*1.15) \n",
        "  print(\"tu nuevo salario es: \",nsueldo)\n",
        "\n",
        "if SUE>1000:\n",
        "  nsueldo=(SUE*1.12) \n",
        "  print(\"tu nuevo salario es: \",nsueldo)\n"
      ],
      "execution_count": 12,
      "outputs": [
        {
          "output_type": "stream",
          "text": [
            "Salario900\n",
            "tu nuevo salario es:  1035.0\n"
          ],
          "name": "stdout"
        }
      ]
    },
    {
      "cell_type": "code",
      "metadata": {
        "colab": {
          "base_uri": "https://localhost:8080/"
        },
        "id": "wypFeHosl82O",
        "outputId": "81ff9f55-b877-4e3f-fef2-1a385ffcc1c8"
      },
      "source": [
        "# 2.8\n",
        "cat= float(input(\"Categoria: \"))\n",
        "sue=float(input(\"Sueldo: \"))\n",
        "\n",
        "if cat==1:\n",
        "  nsueldo=(sue*1.15) \n",
        "  print(\"tu salario es: \",nsueldo)\n",
        "\n",
        "if cat==2:\n",
        "  nsueldo=(sue*1.10) \n",
        "  print(\"tu salario es: \",nsueldo)\n",
        "if cat==3:\n",
        "  nsueldo=(sue*1.8) \n",
        "  print(\"tu salario es: \",nsueldo)\n",
        "\n",
        "if cat==4:\n",
        "  nsueldo=(sue*1.7) \n",
        "  print(\"tu salario es: \",nsueldo)\n"
      ],
      "execution_count": 14,
      "outputs": [
        {
          "output_type": "stream",
          "text": [
            "Categoria: 1\n",
            "Sueldo: 12312\n",
            "tu salario es:  14158.8\n"
          ],
          "name": "stdout"
        }
      ]
    }
  ]
}