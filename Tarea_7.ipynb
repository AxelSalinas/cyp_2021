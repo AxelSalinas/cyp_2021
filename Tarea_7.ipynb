{
  "nbformat": 4,
  "nbformat_minor": 0,
  "metadata": {
    "colab": {
      "name": "Tarea 7.ipynb",
      "provenance": [],
      "authorship_tag": "ABX9TyMQCYjfM2oAu0qXCFoFtelC",
      "include_colab_link": true
    },
    "kernelspec": {
      "name": "python3",
      "display_name": "Python 3"
    }
  },
  "cells": [
    {
      "cell_type": "markdown",
      "metadata": {
        "id": "view-in-github",
        "colab_type": "text"
      },
      "source": [
        "<a href=\"https://colab.research.google.com/github/AxelSalinas/cyp_2021/blob/main/Tarea_7.ipynb\" target=\"_parent\"><img src=\"https://colab.research.google.com/assets/colab-badge.svg\" alt=\"Open In Colab\"/></a>"
      ]
    },
    {
      "cell_type": "code",
      "metadata": {
        "colab": {
          "base_uri": "https://localhost:8080/"
        },
        "id": "WYMIr8aEa1La",
        "outputId": "30d77f16-4b4a-4475-ebcb-4d6012fe2c8f"
      },
      "source": [
        "#4.11\r\n",
        "total = int(input(\"¿Cuántos países en total serán?: \"))\r\n",
        "\r\n",
        "tpn, tpc, tps, aux, aux2 = 0, 0, 0, 0, 0\r\n",
        "while True:\r\n",
        "  tpn = int(input(\"¿paises Norte de america?: \"))\r\n",
        "  tpc = int(input(\"¿paises Centro de america?: \"))\r\n",
        "  tps = int(input(\"¿paises Sur de america?: \"))\r\n",
        "  aux = tpn + tpc + tps\r\n",
        "\r\n",
        "  if aux == total:\r\n",
        "    break;\r\n",
        "  elif aux < total:\r\n",
        "    print(\"los paises ingresados son menores al total\")\r\n",
        "  elif aux > total:\r\n",
        "    print(\"los paises ingresados son mayor al total\")\r\n",
        "\r\n",
        "paises = [\"Norte\", \"Centro\", \"Sur\"]\r\n",
        "aux = 0\r\n",
        "pn = [str(0) for x in range(tpn)]\r\n",
        "pc = [str(0) for x in range(tpc)]\r\n",
        "ps = [str(0) for x in range(tps)]\r\n",
        "itotal = [str(0) for x in range(total)]\r\n",
        "\r\n",
        "for i in range(total):\r\n",
        "  itotal[i] = str(input(f\"nombre del pais numero{aux+1} de la región {paises[aux2]} de América: \"))\r\n",
        "  aux += 1\r\n",
        "  if aux2 == 0:\r\n",
        "    if aux >= tpn:\r\n",
        "      aux = 0\r\n",
        "      aux2 = 1\r\n",
        "    pn[aux] = itotal[i]\r\n",
        "  elif aux2 == 1:\r\n",
        "    if aux >= tpc:\r\n",
        "      aux = 0\r\n",
        "      aux2 = 2\r\n",
        "    pc[aux] = itotal[i]\r\n",
        "  elif aux2 == 2:\r\n",
        "    if aux >= tps:\r\n",
        "      aux = 0\r\n",
        "    ps[aux] = itotal[i]\r\n",
        "\r\n",
        "print(f\"Norte:sorted {(pn)}\")\r\n",
        "print(f\"Centro: sorted{(pc)}\")\r\n",
        "print(f\"Sur: {sorted(ps)}\")\r\n",
        "print(f\"Todos: {sorted(itotal)}\")"
      ],
      "execution_count": 19,
      "outputs": [
        {
          "output_type": "stream",
          "text": [
            "¿Cuántos países en total serán?: 10\n",
            "¿paises Norte de america?: 2\n",
            "¿paises Centro de america?: 1\n",
            "¿paises Sur de america?: 7\n",
            "nombre del pais numero1 de la región Norte de América: Estados Unidos\n",
            "nombre del pais numero2 de la región Norte de América: Canada\n",
            "nombre del pais numero1 de la región Centro de América: Mexico\n",
            "nombre del pais numero1 de la región Sur de América: Peru\n",
            "nombre del pais numero2 de la región Sur de América: Argentina\n",
            "nombre del pais numero3 de la región Sur de América: Bolivia\n",
            "nombre del pais numero4 de la región Sur de América: Brasil\n",
            "nombre del pais numero5 de la región Sur de América: Chile\n",
            "nombre del pais numero6 de la región Sur de América: Venezuela\n",
            "nombre del pais numero7 de la región Sur de América: Colombia\n",
            "Norte:sorted ['Canada', 'Estados Unidos']\n",
            "Centro: sorted['Mexico']\n",
            "Sur: ['Argentina', 'Bolivia', 'Brasil', 'Chile', 'Colombia', 'Peru', 'Venezuela']\n",
            "Todos: ['Argentina', 'Bolivia', 'Brasil', 'Canada', 'Chile', 'Colombia', 'Estados Unidos', 'Mexico', 'Peru', 'Venezuela']\n"
          ],
          "name": "stdout"
        }
      ]
    }
  ]
}