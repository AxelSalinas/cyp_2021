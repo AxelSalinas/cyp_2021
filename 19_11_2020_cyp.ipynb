{
  "nbformat": 4,
  "nbformat_minor": 0,
  "metadata": {
    "colab": {
      "name": "19/11/2020 cyp.ipynb",
      "provenance": [],
      "collapsed_sections": [],
      "authorship_tag": "ABX9TyNFZrqRPoCYH6EBJv5iFTFd",
      "include_colab_link": true
    },
    "kernelspec": {
      "name": "python3",
      "display_name": "Python 3"
    }
  },
  "cells": [
    {
      "cell_type": "markdown",
      "metadata": {
        "id": "view-in-github",
        "colab_type": "text"
      },
      "source": [
        "<a href=\"https://colab.research.google.com/github/AxelSalinas/cyp_2021/blob/main/19_11_2020_cyp.ipynb\" target=\"_parent\"><img src=\"https://colab.research.google.com/assets/colab-badge.svg\" alt=\"Open In Colab\"/></a>"
      ]
    },
    {
      "cell_type": "code",
      "metadata": {
        "colab": {
          "base_uri": "https://localhost:8080/"
        },
        "id": "TCfgTK1_g27g",
        "outputId": "b7df59f2-1916-4009-f122-b8fdf9fd8041"
      },
      "source": [
        "#Ejemplo\n",
        "I= 0\n",
        "I= I + 1\n",
        "I= I + 1\n",
        "print(f\"I={I}\")\n",
        "J= 5** 2 / 3\n",
        "\n",
        "print(f\"J={J}\")\n"
      ],
      "execution_count": null,
      "outputs": [
        {
          "output_type": "stream",
          "text": [
            "I=2\n",
            "J=8.333333333333334\n"
          ],
          "name": "stdout"
        }
      ]
    },
    {
      "cell_type": "code",
      "metadata": {
        "colab": {
          "base_uri": "https://localhost:8080/"
        },
        "id": "YdXESVvcnIeZ",
        "outputId": "e5896f30-a181-4d10-af71-d4e418598b2f"
      },
      "source": [
        "#Ejemplo \n",
        "A=0\n",
        "B=0\n",
        "C=0\n",
        "D=0\n",
        "\n",
        "A=int(input(\"dame un valor entero\"))\n",
        "B=int(input(\"dame un valor entero\"))\n",
        "C=int(input(\"dame un valor entero\"))\n",
        "D=int(input(\"dame un valor entero\"))\n",
        "\n",
        "print(A)\n",
        "print(B)\n",
        "print(C)\n",
        "print(D)"
      ],
      "execution_count": null,
      "outputs": [
        {
          "output_type": "stream",
          "text": [
            "dame un valor entero1\n",
            "dame un valor entero2\n",
            "dame un valor entero3\n",
            "dame un valor entero4\n",
            "1\n",
            "2\n",
            "3\n",
            "4\n"
          ],
          "name": "stdout"
        }
      ]
    },
    {
      "cell_type": "code",
      "metadata": {
        "colab": {
          "base_uri": "https://localhost:8080/"
        },
        "id": "IXxeSYJapKdM",
        "outputId": "d3dd56db-b09d-49ab-d3a3-2a511a6aae70"
      },
      "source": [
        "#Ejemplo 1.7\n",
        "A=0\n",
        "B=0\n",
        "\n",
        "A=int(input(\"dame un valor \"))\n",
        "B=int(input(\"dame un valor \"))\n",
        "\n",
        "RES = (A + B) ** 2/3\n",
        "\n",
        "print(RES)"
      ],
      "execution_count": null,
      "outputs": [
        {
          "output_type": "stream",
          "text": [
            "dame un valor 14\n",
            "dame un valor -5\n",
            "27.0\n"
          ],
          "name": "stdout"
        }
      ]
    },
    {
      "cell_type": "code",
      "metadata": {
        "id": "b2WzqPPxqgF3"
      },
      "source": [
        "#Ejemplo 1.9"
      ],
      "execution_count": null,
      "outputs": []
    },
    {
      "cell_type": "code",
      "metadata": {
        "colab": {
          "base_uri": "https://localhost:8080/"
        },
        "id": "zEk82VpduP7P",
        "outputId": "f78812ab-5d0e-46fc-b7c2-7540d5728814"
      },
      "source": [
        "#Ejemplo 1.8\n",
        "MAt=0\n",
        "CAL1=0\n",
        "CAL2=0\n",
        "CAL3=0\n",
        "CAL4=0\n",
        "CAL5=0\n",
        "PRO=0.0\n",
        "\n",
        "MAT=int(input(\"dame matricula\"))\n",
        "\n",
        "\n",
        "CAL1=float(input(\"dame una calificación\"))\n",
        "\n",
        "CAL2=float(input(\"dame una calificación\"))\n",
        "\n",
        "CAL3=float(input(\"dame una calificación\"))\n",
        "\n",
        "CAL4=float(input(\"dame una calificación\"))\n",
        "\n",
        "CAL5=float(input(\"dame una calificación\"))\n",
        "\n",
        "PRO= (CAL1+CAL2+CAL3+CAL4+CAL5) / 5\n",
        "\n",
        "print(MAT,PRO)\n",
        "\n"
      ],
      "execution_count": null,
      "outputs": [
        {
          "output_type": "stream",
          "text": [
            "dame matricula9\n",
            "dame una calificación9\n",
            "dame una calificación9\n",
            "dame una calificación9\n",
            "dame una calificación9\n",
            "dame una calificación9\n",
            "9 9.0\n"
          ],
          "name": "stdout"
        }
      ]
    },
    {
      "cell_type": "code",
      "metadata": {
        "colab": {
          "base_uri": "https://localhost:8080/"
        },
        "id": "ItsBYXxVyBHT",
        "outputId": "a9f862ab-6bee-408a-f48c-ef1ae8eccbb9"
      },
      "source": [
        "\n",
        "\n",
        "NUM=int(input(\"numero\"))\n",
        "\n",
        "CUA= NUM**2\n",
        "CUB=NUM**3\n",
        "\n",
        "print(CUA,CUB)"
      ],
      "execution_count": null,
      "outputs": [
        {
          "output_type": "stream",
          "text": [
            "dame un numero7\n",
            "49 343\n"
          ],
          "name": "stdout"
        }
      ]
    },
    {
      "cell_type": "code",
      "metadata": {
        "id": "ags28GdKzPRZ"
      },
      "source": [
        ""
      ],
      "execution_count": null,
      "outputs": []
    },
    {
      "cell_type": "code",
      "metadata": {
        "colab": {
          "base_uri": "https://localhost:8080/"
        },
        "id": "VOQ5YvuG0BN6",
        "outputId": "9c484347-b3e0-4d37-fcac-70130e70e0ac"
      },
      "source": [
        "BASE= float(input(\"BASE\"))\n",
        "ALTU=float(input(\"ALT\"))\n",
        "\n",
        "SUP= BASE*ALTU\n",
        "PER= (BASE+ALTU)*2\n",
        "print(\"Superficie\",SUP,\"Perimetro\",PER)\n",
        "\n",
        "\n"
      ],
      "execution_count": 51,
      "outputs": [
        {
          "output_type": "stream",
          "text": [
            "BASE8\n",
            "ALT8\n",
            "Superficie 64.0 Perimetro 32.0\n"
          ],
          "name": "stdout"
        }
      ]
    }
  ]
}