{
  "nbformat": 4,
  "nbformat_minor": 0,
  "metadata": {
    "colab": {
      "name": "Tarea 3.ipynb",
      "provenance": [],
      "authorship_tag": "ABX9TyPR8bron3+ur0sYTapTzq3h",
      "include_colab_link": true
    },
    "kernelspec": {
      "name": "python3",
      "display_name": "Python 3"
    }
  },
  "cells": [
    {
      "cell_type": "markdown",
      "metadata": {
        "id": "view-in-github",
        "colab_type": "text"
      },
      "source": [
        "<a href=\"https://colab.research.google.com/github/AxelSalinas/cyp_2021/blob/main/Tarea_3.ipynb\" target=\"_parent\"><img src=\"https://colab.research.google.com/assets/colab-badge.svg\" alt=\"Open In Colab\"/></a>"
      ]
    },
    {
      "cell_type": "code",
      "metadata": {
        "colab": {
          "base_uri": "https://localhost:8080/"
        },
        "id": "pV1KB2PKPB9J",
        "outputId": "26c6ad58-9e89-4006-f911-3b2a431da376"
      },
      "source": [
        "# Problema 1.1\n",
        "PREPRO= float (input(\"precio del articulo: \"))\n",
        "\n",
        "PAGO=  float (input(\"Cantidad con la que pagara: \"))\n",
        "\n",
        "DEVO= PAGO - PREPRO\n",
        "\n",
        "print(\"Cambio: \",DEVO)"
      ],
      "execution_count": 32,
      "outputs": [
        {
          "output_type": "stream",
          "text": [
            "precio del articulo: 6\n",
            "Cantidad con la que pagara: 10\n",
            "Cambio:  4.0\n"
          ],
          "name": "stdout"
        }
      ]
    },
    {
      "cell_type": "code",
      "metadata": {
        "colab": {
          "base_uri": "https://localhost:8080/"
        },
        "id": "8XgtnnJXQJy3",
        "outputId": "0d937780-43a1-4580-e110-79b916b89a8c"
      },
      "source": [
        "# Problema 1.2\n",
        "BASE= float (input (\"Base: \"))\n",
        "\n",
        "ALT=  float (input  (\"Altura: \"))\n",
        "\n",
        "AREA= (BASE*ALT)/2\n",
        "\n",
        "print(\"La Base es: \",AREA)"
      ],
      "execution_count": 31,
      "outputs": [
        {
          "output_type": "stream",
          "text": [
            "Base: 6\n",
            "Altura: 5\n",
            "La Base es:  15.0\n"
          ],
          "name": "stdout"
        }
      ]
    },
    {
      "cell_type": "code",
      "metadata": {
        "colab": {
          "base_uri": "https://localhost:8080/"
        },
        "id": "_Qq5SpRpQ7Bn",
        "outputId": "8e932d56-250d-4311-aa49-7aa279ec4944"
      },
      "source": [
        "# Problema 1.3\n",
        "NOM= (input(\"Nombre del dinosaurio: \"))\n",
        "PES= float(input(\"Peso en libras: \"))\n",
        "LON=float(input(\"Longitud en pies: \"))\n",
        "\n",
        "PESK = PES * 1000\n",
        "\n",
        "LONM= LON*.3047\n",
        "\n",
        "print(\"el peso en kilos del \",NOM,\"es\",PESK, \"La longitud en metros es\", LONM)"
      ],
      "execution_count": 20,
      "outputs": [
        {
          "output_type": "stream",
          "text": [
            "Nombre del dinosaurio: Diplodocus\n",
            "Peso en libras: 15\n",
            "Longitud en pies: 90\n",
            "el peso en kilos del  Diplodocus es 15000.0 La longitud en metros es 27.423000000000002\n"
          ],
          "name": "stdout"
        }
      ]
    },
    {
      "cell_type": "code",
      "metadata": {
        "colab": {
          "base_uri": "https://localhost:8080/"
        },
        "id": "9ozHyDDCWKgr",
        "outputId": "800cf17a-2a78-4a75-e452-68b6db7323e7"
      },
      "source": [
        "# Problema 1.4\n",
        "\n",
        "GAL=float(input(\"Galones: \"))\n",
        "\n",
        "TOT= (GAL*3.785)* 8.20\n",
        "\n",
        "print(\"Total a pagar:\",TOT,\"$\")"
      ],
      "execution_count": 24,
      "outputs": [
        {
          "output_type": "stream",
          "text": [
            "Galones: 10.38\n",
            "Total a pagar: 322.16406 $\n"
          ],
          "name": "stdout"
        }
      ]
    },
    {
      "cell_type": "code",
      "metadata": {
        "colab": {
          "base_uri": "https://localhost:8080/"
        },
        "id": "4-h-jujnX9A9",
        "outputId": "5f729813-1244-4cd8-b23b-75bf26d1048f"
      },
      "source": [
        "# Problema 1.5\n",
        "RAD= float(input(\"Radio: \"))\n",
        "ALT= float(input(\"Altura: \"))\n",
        "\n",
        "\n",
        "\n",
        "PI= 3.141592\n",
        "\n",
        "VOL= (PI * RAD**2) * ALT\n",
        "AREA= 2*PI*RAD*ALT \n",
        "\n",
        "print(\"El volumen es: \",VOL,\"y el area es\",AREA)\n",
        " "
      ],
      "execution_count": 29,
      "outputs": [
        {
          "output_type": "stream",
          "text": [
            "Radio: 45.22\n",
            "Altura: 11.60\n",
            "El volumen es:  74519.32074597248 y el area es 3295.856733568\n"
          ],
          "name": "stdout"
        }
      ]
    },
    {
      "cell_type": "code",
      "metadata": {
        "colab": {
          "base_uri": "https://localhost:8080/"
        },
        "id": "p4vPLkGcaRi_",
        "outputId": "e46317a1-8e71-4c92-d0ab-f4e0a9f73160"
      },
      "source": [
        "# Problema 1.6\n",
        "DIA=int(input(\"Dias: \"))\n",
        "\n",
        "SEG= DIA * 86400\n",
        "\n",
        "print(\"Esos dias tienen: \",SEG,\"s\")\n"
      ],
      "execution_count": 38,
      "outputs": [
        {
          "output_type": "stream",
          "text": [
            "Dias: 15\n",
            "Esos dias tienen:  1296000 s\n"
          ],
          "name": "stdout"
        }
      ]
    },
    {
      "cell_type": "code",
      "metadata": {
        "id": "mHpxoSEybkm-"
      },
      "source": [
        ""
      ],
      "execution_count": null,
      "outputs": []
    }
  ]
}