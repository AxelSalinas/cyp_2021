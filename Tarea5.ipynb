{
  "nbformat": 4,
  "nbformat_minor": 0,
  "metadata": {
    "colab": {
      "name": "Tarea5.ipynb",
      "provenance": [],
      "authorship_tag": "ABX9TyMNif/QpM8PHTn22HfCmmug",
      "include_colab_link": true
    },
    "kernelspec": {
      "name": "python3",
      "display_name": "Python 3"
    }
  },
  "cells": [
    {
      "cell_type": "markdown",
      "metadata": {
        "id": "view-in-github",
        "colab_type": "text"
      },
      "source": [
        "<a href=\"https://colab.research.google.com/github/AxelSalinas/cyp_2021/blob/main/Tarea5.ipynb\" target=\"_parent\"><img src=\"https://colab.research.google.com/assets/colab-badge.svg\" alt=\"Open In Colab\"/></a>"
      ]
    },
    {
      "cell_type": "code",
      "metadata": {
        "colab": {
          "base_uri": "https://localhost:8080/"
        },
        "id": "MUbgazwYMuLD",
        "outputId": "5ab527ff-aa48-49b2-b26f-537960e6a5ac"
      },
      "source": [
        "\n",
        "sue1= float (input(\"sueldo 1: \"))\n",
        "sue2= float (input(\"sueldo 2: \"))\n",
        "sue3= float (input(\"sueldo 3: \"))\n",
        "sue4= float (input(\"sueldo 4: \"))\n",
        "sue5= float (input(\"sueldo 5: \"))\n",
        "sue6= float (input(\"sueldo 6: \"))\n",
        "sue7= float (input(\"sueldo 7: \"))\n",
        "sue8= float (input(\"sueldo 8: \"))\n",
        "sue9= float (input(\"sueldo 9: \"))\n",
        "sue10= float (input(\"sueldo 10: \"))\n",
        "\n",
        "NOM=sue1+sue2+sue3+sue4+sue5+sue6+sue7+sue8+sue9+sue10\n",
        "\n",
        "print(\"total de la nomina: $\",NOM)\n",
        "\n"
      ],
      "execution_count": 14,
      "outputs": [
        {
          "output_type": "stream",
          "text": [
            "sueldo 1: 1\n",
            "sueldo 2: 1\n",
            "sueldo 3: 1\n",
            "sueldo 4: 1\n",
            "sueldo 5: 1\n",
            "sueldo 6: 1\n",
            "sueldo 7: 1\n",
            "sueldo 8: 1\n",
            "sueldo 9: 1\n",
            "sueldo 10: 1\n",
            "total de la nomina: $ 10.0\n"
          ],
          "name": "stdout"
        }
      ]
    },
    {
      "cell_type": "code",
      "metadata": {
        "colab": {
          "base_uri": "https://localhost:8080/"
        },
        "id": "HeEWooyGdnyp",
        "outputId": "ce066582-57af-486c-be63-3513f50f1966"
      },
      "source": [
        "\n",
        "gasto=int (input(\"Cuanto gastaste? \"))\n",
        "\n",
        "\n",
        "while  gasto<0:\n",
        "  print(\"no gasto nada\")\n",
        "  if gasto==0:\n",
        "    print(\"el programa finalizo\")\n",
        "    break;\n",
        "  gasto=int(input(\"Cuanto gastaste? \"))\n",
        "  if gasto>0:\n",
        "    sumgasto= gasto+gasto\n",
        "    print(\"Gastaste: \",sumgasto)\n",
        "\n",
        "\n",
        "\n"
      ],
      "execution_count": 58,
      "outputs": [
        {
          "output_type": "stream",
          "text": [
            "Cuanto gastaste? -23\n",
            "no gasto nada\n",
            "Cuanto gastaste? -1\n",
            "no gasto nada\n",
            "Cuanto gastaste? 1234\n",
            "Gastaste:  2468\n"
          ],
          "name": "stdout"
        }
      ]
    }
  ]
}