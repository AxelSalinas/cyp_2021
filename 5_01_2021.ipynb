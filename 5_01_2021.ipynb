{
  "nbformat": 4,
  "nbformat_minor": 0,
  "metadata": {
    "colab": {
      "name": "5/01/2021.ipynb",
      "provenance": [],
      "authorship_tag": "ABX9TyMvcJwSdb1hOU0hwAwOotjN",
      "include_colab_link": true
    },
    "kernelspec": {
      "name": "python3",
      "display_name": "Python 3"
    }
  },
  "cells": [
    {
      "cell_type": "markdown",
      "metadata": {
        "id": "view-in-github",
        "colab_type": "text"
      },
      "source": [
        "<a href=\"https://colab.research.google.com/github/AxelSalinas/cyp_2021/blob/main/5_01_2021.ipynb\" target=\"_parent\"><img src=\"https://colab.research.google.com/assets/colab-badge.svg\" alt=\"Open In Colab\"/></a>"
      ]
    },
    {
      "cell_type": "code",
      "metadata": {
        "colab": {
          "base_uri": "https://localhost:8080/"
        },
        "id": "rc8GOsuMjBCl",
        "outputId": "b4e046e2-d984-43b1-e690-7364acff8e1b"
      },
      "source": [
        "\r\n",
        "sueldos= [0.0 for x in range(7)]\r\n",
        "print(sueldos)\r\n",
        "sueldos[0]=23.2\r\n",
        "sueldos[1]=22.3\r\n",
        "sueldos[2]=4.3\r\n",
        "sueldos[3]=34.3\r\n",
        "sueldos[4]=34.3\r\n",
        "sueldos[5]=23.1\r\n",
        "sueldos[6]=56.3\r\n",
        "print(sueldos)\r\n",
        "sueldo = [float (x) for x in range(7)]\r\n",
        "for i in range(0, 7):\r\n",
        "    sueldo[i]=float (i)+1.0\r\n",
        "\r\n",
        "print(sueldo)\r\n",
        "#automatizar el recorrido del arreglo\r\n",
        "for i in range(7):\r\n",
        "  print(f\"el trabajador {int(i)+1} gana $ {sueldo[i]}\")\r\n",
        "\r\n",
        "\r\n"
      ],
      "execution_count": 10,
      "outputs": [
        {
          "output_type": "stream",
          "text": [
            "[0.0, 0.0, 0.0, 0.0, 0.0, 0.0, 0.0]\n",
            "[23.2, 22.3, 4.3, 34.3, 34.3, 23.1, 56.3]\n",
            "[1.0, 2.0, 3.0, 4.0, 5.0, 6.0, 7.0]\n",
            "el trabajador 1 gana $ 1.0\n",
            "el trabajador 2 gana $ 2.0\n",
            "el trabajador 3 gana $ 3.0\n",
            "el trabajador 4 gana $ 4.0\n",
            "el trabajador 5 gana $ 5.0\n",
            "el trabajador 6 gana $ 6.0\n",
            "el trabajador 7 gana $ 7.0\n"
          ],
          "name": "stdout"
        }
      ]
    },
    {
      "cell_type": "code",
      "metadata": {
        "colab": {
          "base_uri": "https://localhost:8080/"
        },
        "id": "8vWdsGQIoxRW",
        "outputId": "b469d817-e279-493e-a832-d3a0dfefb781"
      },
      "source": [
        "MAXIMO=7\r\n",
        "sueldos= [0.0 for x in range(7)]\r\n",
        "suma=0.0\r\n",
        "promedio=0.0\r\n",
        "for i in range(MAXIMO):\r\n",
        "  sueldos[i]=float (input(\"Sueldo\"))\r\n",
        "for i in range(MAXIMO):\r\n",
        "  print(f\"el trabajador {i+1} gana $ {sueldo[i]}\")\r\n",
        "for i in range(MAXIMO):\r\n",
        "  suma=suma+sueldos[i]\r\n",
        "\r\n",
        "promedio=suma/MAXIMO\r\n",
        "print(f\"el promedio del sueldo es {promedio}\")\r\n",
        "\r\n",
        "for i in range(MAXIMO):\r\n",
        "  if sueldo[i]>promedio:\r\n",
        "    print(f\"el sueldo mayor al promedio lo tiene el trabajador {i+1}\")\r\n"
      ],
      "execution_count": 18,
      "outputs": [
        {
          "output_type": "stream",
          "text": [
            "Sueldo4\n",
            "Sueldo5\n",
            "Sueldo4\n",
            "Sueldo5\n",
            "Sueldo4\n",
            "Sueldo5\n",
            "Sueldo4\n",
            "el trabajador 1 gana $ 1.0\n",
            "el trabajador 2 gana $ 2.0\n",
            "el trabajador 3 gana $ 3.0\n",
            "el trabajador 4 gana $ 4.0\n",
            "el trabajador 5 gana $ 5.0\n",
            "el trabajador 6 gana $ 6.0\n",
            "el trabajador 7 gana $ 7.0\n",
            "el promedio del sueldo es 4.428571428571429\n",
            "el sueldo mayor al promedio lo tiene el trabajador 5\n",
            "el sueldo mayor al promedio lo tiene el trabajador 6\n",
            "el sueldo mayor al promedio lo tiene el trabajador 7\n"
          ],
          "name": "stdout"
        }
      ]
    },
    {
      "cell_type": "code",
      "metadata": {
        "colab": {
          "base_uri": "https://localhost:8080/"
        },
        "id": "8USr0iZuw6Re",
        "outputId": "a912f884-251a-4416-a6ea-cade98f860fc"
      },
      "source": [
        "#problema 4.1\r\n",
        "N= int (input(\"ingresa el numero de elementos\"))\r\n",
        "VEC=[]\r\n",
        "if 1<=N and N<=500:\r\n",
        "  VEC=[0 for x in range(N)]\r\n",
        "  for I in range(N):\r\n",
        "    VEC[I]=int (input(\"Ingrese valor\"+str (I+1)+\":\"))\r\n",
        "    print(\"lista de numeros sin repeticiones\")\r\n",
        "    I=0\r\n",
        "  while I< N:\r\n",
        "    print(VEC[I])\r\n",
        "    REPET=VEC[I]\r\n",
        "    while I< N and REPET == VEC[I]:\r\n",
        "      I=I+1\r\n",
        "    I=I+1\r\n",
        "else:\r\n",
        "  print(\"el numero de arrgelos es incorrecto\")\r\n",
        "\r\n"
      ],
      "execution_count": 28,
      "outputs": [
        {
          "output_type": "stream",
          "text": [
            "ingresa el numero de elementos10\n",
            "Ingrese valor1:10\n",
            "lista de numeros sin repeticiones\n",
            "Ingrese valor2:2\n",
            "lista de numeros sin repeticiones\n",
            "Ingrese valor3:3\n",
            "lista de numeros sin repeticiones\n",
            "Ingrese valor4:3\n",
            "lista de numeros sin repeticiones\n",
            "Ingrese valor5:3\n",
            "lista de numeros sin repeticiones\n",
            "Ingrese valor6:10\n",
            "lista de numeros sin repeticiones\n",
            "Ingrese valor7:20\n",
            "lista de numeros sin repeticiones\n",
            "Ingrese valor8:20\n",
            "lista de numeros sin repeticiones\n",
            "Ingrese valor9:40\n",
            "lista de numeros sin repeticiones\n",
            "Ingrese valor10:43\n",
            "lista de numeros sin repeticiones\n",
            "10\n",
            "3\n",
            "20\n",
            "43\n"
          ],
          "name": "stdout"
        }
      ]
    },
    {
      "cell_type": "code",
      "metadata": {
        "id": "7teh_LGh0L8x"
      },
      "source": [
        ""
      ],
      "execution_count": null,
      "outputs": []
    }
  ]
}