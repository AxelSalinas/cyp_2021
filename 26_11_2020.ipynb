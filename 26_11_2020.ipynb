{
  "nbformat": 4,
  "nbformat_minor": 0,
  "metadata": {
    "colab": {
      "name": "26/11/2020.ipynb",
      "provenance": [],
      "authorship_tag": "ABX9TyMQ3EF9XW3iTMqv0kjuBHhK",
      "include_colab_link": true
    },
    "kernelspec": {
      "name": "python3",
      "display_name": "Python 3"
    }
  },
  "cells": [
    {
      "cell_type": "markdown",
      "metadata": {
        "id": "view-in-github",
        "colab_type": "text"
      },
      "source": [
        "<a href=\"https://colab.research.google.com/github/AxelSalinas/cyp_2021/blob/main/26_11_2020.ipynb\" target=\"_parent\"><img src=\"https://colab.research.google.com/assets/colab-badge.svg\" alt=\"Open In Colab\"/></a>"
      ]
    },
    {
      "cell_type": "code",
      "metadata": {
        "colab": {
          "base_uri": "https://localhost:8080/"
        },
        "id": "x-fjQt_YjtYP",
        "outputId": "3abce552-9da8-42d8-dc6f-ea9bd964300d"
      },
      "source": [
        "if(True):\n",
        "  print(\"la condicion se cumple\")\n",
        "\n",
        "print(\"No se cumple\")"
      ],
      "execution_count": 18,
      "outputs": [
        {
          "output_type": "stream",
          "text": [
            "la condicion se cumple\n",
            "No se cumple\n"
          ],
          "name": "stdout"
        }
      ]
    },
    {
      "cell_type": "code",
      "metadata": {
        "colab": {
          "base_uri": "https://localhost:8080/"
        },
        "id": "TDjcjqtTlyYk",
        "outputId": "ef8e9800-1cc8-4e2b-d69b-3e2d89b15579"
      },
      "source": [
        "if(5>3):\n",
        "  print(\"Si\")\n",
        "\n",
        "print(\"No\")\n"
      ],
      "execution_count": 16,
      "outputs": [
        {
          "output_type": "stream",
          "text": [
            "Si\n",
            "No\n"
          ],
          "name": "stdout"
        }
      ]
    },
    {
      "cell_type": "code",
      "metadata": {
        "colab": {
          "base_uri": "https://localhost:8080/"
        },
        "id": "zTF4NuUmmczh",
        "outputId": "90f4c184-ac16-48df-9a78-ae7156444b8f"
      },
      "source": [
        "if(2>3):\n",
        "  print(\"Si\")\n",
        "\n",
        "print(\"NO\")\n"
      ],
      "execution_count": 8,
      "outputs": [
        {
          "output_type": "stream",
          "text": [
            "NO\n"
          ],
          "name": "stdout"
        }
      ]
    },
    {
      "cell_type": "code",
      "metadata": {
        "colab": {
          "base_uri": "https://localhost:8080/"
        },
        "id": "G4MAzIELoCND",
        "outputId": "c1bbaece-4ce4-4759-e4f0-c4bfd4253b7b"
      },
      "source": [
        "#ejercio 1\n",
        "C=float(input(\"Calificación: \"))\n",
        "\n",
        "if(C>8):\n",
        "  print(\"Aprobado\")\n",
        "  \n",
        "else:print(\"No aprobado\")\n"
      ],
      "execution_count": 24,
      "outputs": [
        {
          "output_type": "stream",
          "text": [
            "Calificación: 7.9\n",
            "No aprobado\n"
          ],
          "name": "stdout"
        }
      ]
    },
    {
      "cell_type": "code",
      "metadata": {
        "colab": {
          "base_uri": "https://localhost:8080/"
        },
        "id": "An_1ciEhqBAm",
        "outputId": "f4d1febc-1f9a-4223-85be-7df86697c6b3"
      },
      "source": [
        "#ejecicio 2\n",
        "Sue=float(input(\"Sueldo\"))\n",
        "\n",
        "S=Sue*0.15+Sue\n",
        "if(Sue<1000):\n",
        "  print(\"Nuevo sueldo\",S)\n",
        "\n",
        "\n",
        "\n",
        "\n"
      ],
      "execution_count": 28,
      "outputs": [
        {
          "output_type": "stream",
          "text": [
            "Sueldo900\n",
            "Nuevo sueldo 1035.0\n"
          ],
          "name": "stdout"
        }
      ]
    }
  ]
}