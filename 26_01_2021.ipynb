{
  "nbformat": 4,
  "nbformat_minor": 0,
  "metadata": {
    "colab": {
      "name": "26/01/2021.ipynb",
      "provenance": [],
      "authorship_tag": "ABX9TyO6Vbp5pDmJ2vx0hVK1bRXL",
      "include_colab_link": true
    },
    "kernelspec": {
      "name": "python3",
      "display_name": "Python 3"
    }
  },
  "cells": [
    {
      "cell_type": "markdown",
      "metadata": {
        "id": "view-in-github",
        "colab_type": "text"
      },
      "source": [
        "<a href=\"https://colab.research.google.com/github/AxelSalinas/cyp_2021/blob/main/26_01_2021.ipynb\" target=\"_parent\"><img src=\"https://colab.research.google.com/assets/colab-badge.svg\" alt=\"Open In Colab\"/></a>"
      ]
    },
    {
      "cell_type": "markdown",
      "metadata": {
        "id": "LxJhGPMbtTTz"
      },
      "source": [
        "#listas de pyhton 3\r\n",
        "\"\"\"\r\n",
        "1.es una estructura de datos lineal de 0 o n elementos\r\n",
        "2.\"equivalente \" a los arreglos\r\n",
        "3.Pueden ser de diferente tipo de dato [1,2,3], [1,True,2.22,\"Hola\"]\r\n",
        "4. Pueden ser anidados, listas de listas. [\"melon\",\"manzana roja\",\"manzana amarilla]\"]\r\n",
        "5. su selector es de la forma: [int]\r\n",
        "6. Son mutables\r\n",
        "\"\"\""
      ]
    },
    {
      "cell_type": "code",
      "metadata": {
        "colab": {
          "base_uri": "https://localhost:8080/"
        },
        "id": "MZ9KpAW0u3G5",
        "outputId": "e504534b-acb5-4708-cfb6-db984c2dcf62"
      },
      "source": [
        "#ejemplos\r\n",
        "numeros= [1,2,3,4,55]\r\n",
        "print(numeros)\r\n",
        "print(numeros[2])\r\n",
        "\r\n",
        "#una lista de cero elementos\r\n",
        "colores=[] #list ()\r\n",
        "dias=list()\r\n",
        "type(colores) # averiguar de que tipo de dato es una variable con la funvion type\r\n",
        "print(dias)\r\n",
        "print(colores)\r\n"
      ],
      "execution_count": 6,
      "outputs": [
        {
          "output_type": "stream",
          "text": [
            "[1, 2, 3, 4, 55]\n",
            "3\n",
            "[]\n",
            "[]\n"
          ],
          "name": "stdout"
        }
      ]
    },
    {
      "cell_type": "code",
      "metadata": {
        "colab": {
          "base_uri": "https://localhost:8080/"
        },
        "id": "ofpOPS-qwIOK",
        "outputId": "58782771-eb35-4a85-e0b8-ea49ed295744"
      },
      "source": [
        "#pueden ser diferente tipo de dato\r\n",
        "\r\n",
        "mi_lista=[1,2,3,\"Panamiguelito\",False,1.72, [5543432342,234234234,425352342] ]\r\n",
        "print(mi_lista)\r\n",
        "print(mi_lista[5])"
      ],
      "execution_count": 8,
      "outputs": [
        {
          "output_type": "stream",
          "text": [
            "[1, 2, 3, 'Panamiguelito', False, 1.72, [5543432342, 234234234, 425352342]]\n",
            "1.72\n"
          ],
          "name": "stdout"
        }
      ]
    },
    {
      "cell_type": "code",
      "metadata": {
        "colab": {
          "base_uri": "https://localhost:8080/"
        },
        "id": "-YQk2q3d0rHF",
        "outputId": "7d265fe5-b7f7-4c8f-b509-b426a77c6985"
      },
      "source": [
        "frutas=[\"melon\",\"kiwi\",\"mango\"]\r\n",
        "print(frutas)\r\n",
        "frutas[0]=\"Melon\"\r\n",
        "print(frutas)\r\n",
        "frutas[1]=frutas[1].capitalize()\r\n",
        "print(frutas)"
      ],
      "execution_count": 11,
      "outputs": [
        {
          "output_type": "stream",
          "text": [
            "['melon', 'kiwi', 'mango']\n",
            "['Melon', 'kiwi', 'mango']\n",
            "['Melon', 'Kiwi', 'mango']\n"
          ],
          "name": "stdout"
        }
      ]
    },
    {
      "cell_type": "code",
      "metadata": {
        "colab": {
          "base_uri": "https://localhost:8080/"
        },
        "id": "_b_e3_6v2WaE",
        "outputId": "06286d71-4c54-42b4-f24a-681290ef403e"
      },
      "source": [
        "#las listas son clases por lo tanto, tienen metodos\r\n",
        "#append agrega un elemento final\r\n",
        "frutas=[\"melon\",\"kiwi\",\"mango\"]\r\n",
        "frutas.append(\"Fresa\")\r\n",
        "print(frutas)\r\n",
        "\r\n",
        "print(\"ejemplo de copias\")\r\n",
        "otras_frutas=frutas.copy()\r\n",
        "print(frutas)\r\n",
        "print(otras_frutas)\r\n",
        "otras_frutas[0]=\"Sandia\"\r\n",
        "print(otras_frutas)\r\n",
        "print(frutas)\r\n",
        "print(\"--------\")\r\n",
        "\r\n",
        "print(\"ejemplo de extend\")\r\n",
        "\r\n",
        "colores=[\"rojo\",\"azul\",\"amarillo\"]\r\n",
        "\r\n",
        "frutas.extend(colores)\r\n",
        "print(frutas)\r\n",
        "\r\n",
        "print(\"ejemplo insert\")\r\n",
        "frutas.insert(3,\"limon\")\r\n",
        "print(frutas)\r\n",
        "\r\n",
        "print(\"ejemplo remove\")\r\n",
        "\r\n",
        "print(\"ejemplo con del, eliminar kiwi\")\r\n",
        "frutas.remove(\"kiwi\")\r\n",
        "print(frutas)\r\n",
        "\r\n",
        "print(\"ejemplo del\")\r\n",
        "del frutas[2] # operador de listas\r\n",
        "print(frutas)\r\n",
        "\r\n",
        "\r\n",
        "frutas.clear()\r\n",
        "print(frutas)"
      ],
      "execution_count": 42,
      "outputs": [
        {
          "output_type": "stream",
          "text": [
            "['melon', 'kiwi', 'mango', 'Fresa']\n",
            "ejemplo de copias\n",
            "['melon', 'kiwi', 'mango', 'Fresa']\n",
            "['melon', 'kiwi', 'mango', 'Fresa']\n",
            "['Sandia', 'kiwi', 'mango', 'Fresa']\n",
            "['melon', 'kiwi', 'mango', 'Fresa']\n",
            "--------\n",
            "ejemplo de extend\n",
            "['melon', 'kiwi', 'mango', 'Fresa', 'rojo', 'azul', 'amarillo']\n",
            "ejemplo insert\n",
            "['melon', 'kiwi', 'mango', 'limon', 'Fresa', 'rojo', 'azul', 'amarillo']\n",
            "ejemplo remove\n",
            "ejemplo con del, eliminar kiwi\n",
            "['melon', 'mango', 'limon', 'Fresa', 'rojo', 'azul', 'amarillo']\n",
            "ejemplo del\n",
            "['melon', 'mango', 'Fresa', 'rojo', 'azul', 'amarillo']\n",
            "[]\n"
          ],
          "name": "stdout"
        }
      ]
    },
    {
      "cell_type": "code",
      "metadata": {
        "colab": {
          "base_uri": "https://localhost:8080/"
        },
        "id": "XiwuqDrD2bPr",
        "outputId": "34ce2322-5b93-41bd-9930-50bc1672727b"
      },
      "source": [
        "dir(frutas)"
      ],
      "execution_count": 12,
      "outputs": [
        {
          "output_type": "execute_result",
          "data": {
            "text/plain": [
              "['__add__',\n",
              " '__class__',\n",
              " '__contains__',\n",
              " '__delattr__',\n",
              " '__delitem__',\n",
              " '__dir__',\n",
              " '__doc__',\n",
              " '__eq__',\n",
              " '__format__',\n",
              " '__ge__',\n",
              " '__getattribute__',\n",
              " '__getitem__',\n",
              " '__gt__',\n",
              " '__hash__',\n",
              " '__iadd__',\n",
              " '__imul__',\n",
              " '__init__',\n",
              " '__init_subclass__',\n",
              " '__iter__',\n",
              " '__le__',\n",
              " '__len__',\n",
              " '__lt__',\n",
              " '__mul__',\n",
              " '__ne__',\n",
              " '__new__',\n",
              " '__reduce__',\n",
              " '__reduce_ex__',\n",
              " '__repr__',\n",
              " '__reversed__',\n",
              " '__rmul__',\n",
              " '__setattr__',\n",
              " '__setitem__',\n",
              " '__sizeof__',\n",
              " '__str__',\n",
              " '__subclasshook__',\n",
              " 'append',\n",
              " 'clear',\n",
              " 'copy',\n",
              " 'count',\n",
              " 'extend',\n",
              " 'index',\n",
              " 'insert',\n",
              " 'pop',\n",
              " 'remove',\n",
              " 'reverse',\n",
              " 'sort']"
            ]
          },
          "metadata": {
            "tags": []
          },
          "execution_count": 12
        }
      ]
    },
    {
      "cell_type": "code",
      "metadata": {
        "colab": {
          "base_uri": "https://localhost:8080/"
        },
        "id": "kDxV8LDgFLIJ",
        "outputId": "6a598610-87e8-45b1-888f-df39c0977a38"
      },
      "source": [
        "#slicing sobre listas\r\n",
        "\r\n",
        "frutas=[\"melon\",\"kiwi\",\"mango\"]\r\n",
        "\r\n",
        "print(frutas[1:4:])\r\n",
        "\r\n",
        "sistemas_operativos=[\"windows\",\"mac OS\", \"Linux\",\"android\"]\r\n",
        "autos=[\"ford\",\"mazda\",\"honda\"]\r\n",
        "\r\n",
        "cosas=[sistemas_operativos,autos]\r\n",
        "print(cosas)\r\n",
        "print(cosas[1])\r\n",
        "print(cosas[0][2])\r\n",
        "print(cosas[0][3][2:5:1])\r\n",
        "print(cosas[1][1][3:0:-1])"
      ],
      "execution_count": 62,
      "outputs": [
        {
          "output_type": "stream",
          "text": [
            "['kiwi', 'mango']\n",
            "[['windows', 'mac OS', 'Linux', 'android'], ['ford', 'mazda', 'honda']]\n",
            "['ford', 'mazda', 'honda']\n",
            "Linux\n",
            "dro\n",
            "dza\n"
          ],
          "name": "stdout"
        }
      ]
    }
  ]
}